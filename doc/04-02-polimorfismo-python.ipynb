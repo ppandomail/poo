{
 "cells": [
  {
   "cell_type": "markdown",
   "id": "50e1a5e8-7618-4920-935d-f334b16423ab",
   "metadata": {},
   "source": [
    "# Polimorfismo - Python\n",
    "---"
   ]
  },
  {
   "cell_type": "markdown",
   "id": "2c93aa63-1d7c-4cb1-911b-e75262e7fd4d",
   "metadata": {},
   "source": [
    "## Ejemplo con funciones integradas"
   ]
  },
  {
   "cell_type": "code",
   "execution_count": 10,
   "id": "939fe6d2-4601-4a96-8a2b-67a524328b23",
   "metadata": {},
   "outputs": [
    {
     "name": "stdout",
     "output_type": "stream",
     "text": [
      "4\n",
      "3\n",
      "2\n"
     ]
    }
   ],
   "source": [
    "print(len(\"Hola\"))              # 4 -> cuenta caracteres\n",
    "print(len([1, 2, 3]))           # 3 -> cuenta elementos en la lista\n",
    "print(len({\"a\": 1, \"b\": 2}))    # 2 -> cuenta pares clave:valor"
   ]
  },
  {
   "cell_type": "markdown",
   "id": "70fc8d41-a66b-4451-b3b3-aceb6bbe2f68",
   "metadata": {},
   "source": [
    "## Ejemplo con clases\n",
    "---"
   ]
  },
  {
   "cell_type": "code",
   "execution_count": 1,
   "id": "96e25c9d-0a98-4e13-a2c9-5224de553efd",
   "metadata": {},
   "outputs": [
    {
     "name": "stdout",
     "output_type": "stream",
     "text": [
      "soy A\n",
      "soy B\n"
     ]
    }
   ],
   "source": [
    "class A:\n",
    "    \n",
    "    def m(self):\n",
    "        print('soy A')\n",
    "\n",
    "class B:\n",
    "    \n",
    "    def m(self):\n",
    "        print('soy B')\n",
    "\n",
    "def hacer(x):\n",
    "    # en tiempo de ejecución sabe a que método \"m\" \n",
    "    # invocar dependiendo del tipo de objeto\n",
    "    x.m()       \n",
    "\n",
    "hacer(A())\n",
    "hacer(B())"
   ]
  },
  {
   "cell_type": "markdown",
   "id": "e4cbc930-04a8-479b-888d-0cc076ba086d",
   "metadata": {},
   "source": [
    "## Interfaces\n",
    "---"
   ]
  },
  {
   "cell_type": "markdown",
   "id": "26b8af19-ad2c-49a4-94cd-579cade9157b",
   "metadata": {},
   "source": [
    "* Es una forma de describir lo que deberían hacer las clases sin especificar cómo deben hacerlo (protocolo de comportamiento)\n",
    "* Es una colección de declaraciones de constantes y definiciones de métodos sin implementación, agrupados bajo un nombre\n",
    "* No debe crecer, si se cambia el comportamiento de una interface, todas las clases que la implementen fallarán "
   ]
  },
  {
   "cell_type": "markdown",
   "id": "62d78c03-f0cb-4411-a31f-53d535799644",
   "metadata": {},
   "source": [
    "### Interfaces informales\n",
    "---"
   ]
  },
  {
   "cell_type": "code",
   "execution_count": 5,
   "id": "9209264e-648a-4f85-a304-b94a3b0d88fa",
   "metadata": {},
   "outputs": [],
   "source": [
    "# simple clase que no implementa los métodos\n",
    "class Mando:\n",
    "    \n",
    "    def ch_up(self):\n",
    "        pass\n",
    "        \n",
    "    def ch_dw(self):\n",
    "        pass\n",
    "\n",
    "# clase extiende a la clase Mando pero no esta obligada a implementar los métodos\n",
    "class MandoSamsung(Mando):\n",
    "    \n",
    "    def ch_up(self):\n",
    "        return \"Samsung-> +\"\n",
    "    \n",
    "    def ch_dw(self):\n",
    "        return \"Samsung-> -\"\n",
    "\n",
    "class MandoLG(Mando):\n",
    "    \n",
    "    def ch_up(self):\n",
    "        return \"LG -> +\"\n",
    "\n",
    "    def ch_dw(self):\n",
    "        return \"LG -> -\"\n",
    "\n",
    "mando = Mando()"
   ]
  },
  {
   "cell_type": "markdown",
   "id": "aa53e0e9-3020-4654-81e0-6302ba212b92",
   "metadata": {},
   "source": [
    "### Interfaces formales\n",
    "---"
   ]
  },
  {
   "cell_type": "code",
   "execution_count": 6,
   "id": "7e5abd5a-4d43-4dc6-b677-8f517f2483ab",
   "metadata": {},
   "outputs": [
    {
     "ename": "TypeError",
     "evalue": "Can't instantiate abstract class Mando without an implementation for abstract methods 'ch_dw', 'ch_up'",
     "output_type": "error",
     "traceback": [
      "\u001b[0;31m---------------------------------------------------------------------------\u001b[0m",
      "\u001b[0;31mTypeError\u001b[0m                                 Traceback (most recent call last)",
      "Cell \u001b[0;32mIn[6], line 22\u001b[0m\n\u001b[1;32m     19\u001b[0m     \u001b[38;5;28;01mdef\u001b[39;00m \u001b[38;5;21mch_dw\u001b[39m(\u001b[38;5;28mself\u001b[39m):\n\u001b[1;32m     20\u001b[0m         \u001b[38;5;28;01mreturn\u001b[39;00m \u001b[38;5;124m\"\u001b[39m\u001b[38;5;124mSamsung-> -\u001b[39m\u001b[38;5;124m\"\u001b[39m\n\u001b[0;32m---> 22\u001b[0m mando \u001b[38;5;241m=\u001b[39m Mando()\n",
      "\u001b[0;31mTypeError\u001b[0m: Can't instantiate abstract class Mando without an implementation for abstract methods 'ch_dw', 'ch_up'"
     ]
    }
   ],
   "source": [
    "from abc import abstractmethod, ABC\n",
    "\n",
    "class Mando(ABC):\n",
    "    \n",
    "    @abstractmethod\n",
    "    def ch_up(self):\n",
    "        pass\n",
    "        \n",
    "    @abstractmethod\n",
    "    def ch_dw(self):\n",
    "        pass\n",
    "\n",
    "# clase extiende a la clase Mando y esta obligada a implementar los métodos\n",
    "class MandoSamsung(Mando):\n",
    "    \n",
    "    def ch_up(self):\n",
    "        return \"Samsung-> +\"\n",
    "    \n",
    "    def ch_dw(self):\n",
    "        return \"Samsung-> -\"\n",
    "\n",
    "mando = Mando()"
   ]
  },
  {
   "cell_type": "markdown",
   "id": "c5eff913-9609-4f36-82e1-18ae074394e2",
   "metadata": {},
   "source": [
    "### Ejemplo clase Transporte"
   ]
  },
  {
   "cell_type": "code",
   "execution_count": 8,
   "id": "d938602d-6a7e-464f-a65e-81111749e6d9",
   "metadata": {},
   "outputs": [
    {
     "ename": "TypeError",
     "evalue": "Can't instantiate abstract class Transporte without an implementation for abstract method 'mover'",
     "output_type": "error",
     "traceback": [
      "\u001b[0;31m---------------------------------------------------------------------------\u001b[0m",
      "\u001b[0;31mTypeError\u001b[0m                                 Traceback (most recent call last)",
      "Cell \u001b[0;32mIn[8], line 9\u001b[0m\n\u001b[1;32m      5\u001b[0m     \u001b[38;5;129m@abstractmethod\u001b[39m\n\u001b[1;32m      6\u001b[0m     \u001b[38;5;28;01mdef\u001b[39;00m \u001b[38;5;21mmover\u001b[39m(\u001b[38;5;28mself\u001b[39m):\n\u001b[1;32m      7\u001b[0m         \u001b[38;5;28;01mpass\u001b[39;00m\n\u001b[0;32m----> 9\u001b[0m t \u001b[38;5;241m=\u001b[39m Transporte()\n",
      "\u001b[0;31mTypeError\u001b[0m: Can't instantiate abstract class Transporte without an implementation for abstract method 'mover'"
     ]
    }
   ],
   "source": [
    "from abc import ABC, abstractmethod\n",
    "\n",
    "class Transporte(ABC):\n",
    "    \n",
    "    @abstractmethod\n",
    "    def mover(self):\n",
    "        pass\n",
    "\n",
    "t = Transporte()"
   ]
  },
  {
   "cell_type": "code",
   "execution_count": 9,
   "id": "1d580fcc-6a2b-47cc-be68-d93fb8e91e1a",
   "metadata": {},
   "outputs": [
    {
     "data": {
      "text/plain": [
       "'El avión vuela por el aire'"
      ]
     },
     "execution_count": 9,
     "metadata": {},
     "output_type": "execute_result"
    }
   ],
   "source": [
    "class Colectivo(Transporte):\n",
    "    \n",
    "    def mover(self):\n",
    "        return \"El colectivo se desplaza por la calle\"\n",
    "\n",
    "class Tren(Transporte):\n",
    "    \n",
    "    def mover(self):\n",
    "        return \"El tren se desplaza por vias al aire libre\"\n",
    "\n",
    "class Subte(Transporte):\n",
    "    \n",
    "    def mover(self):\n",
    "        return \"El subte se desplaza por vias subterraneas\"\n",
    "\n",
    "class Barco(Transporte):\n",
    "    \n",
    "    def mover(self):\n",
    "        return \"El barco navega por el agua\"\n",
    "\n",
    "class Avion(Transporte):\n",
    "    \n",
    "    # pass\n",
    "    def mover(self):\n",
    "        return \"El avión vuela por el aire\"\n",
    "\n",
    "av = Avion()\n",
    "av.mover()"
   ]
  }
 ],
 "metadata": {
  "kernelspec": {
   "display_name": "Python [conda env:base] *",
   "language": "python",
   "name": "conda-base-py"
  },
  "language_info": {
   "codemirror_mode": {
    "name": "ipython",
    "version": 3
   },
   "file_extension": ".py",
   "mimetype": "text/x-python",
   "name": "python",
   "nbconvert_exporter": "python",
   "pygments_lexer": "ipython3",
   "version": "3.12.7"
  }
 },
 "nbformat": 4,
 "nbformat_minor": 5
}
