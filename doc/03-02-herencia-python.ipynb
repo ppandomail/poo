{
 "cells": [
  {
   "cell_type": "markdown",
   "id": "1e5195db-29e0-42fe-9b31-ba99982275e8",
   "metadata": {},
   "source": [
    "# Herencia - Python\n",
    "---"
   ]
  },
  {
   "cell_type": "markdown",
   "id": "03712f6d-9f50-4457-a03d-26dbc3c682fa",
   "metadata": {},
   "source": [
    "## Ejemplo\n",
    "---"
   ]
  },
  {
   "cell_type": "code",
   "execution_count": 2,
   "id": "3f70ab60-4a75-4973-bf18-affde7ed06b3",
   "metadata": {},
   "outputs": [],
   "source": [
    "class CuentaBancaria:\n",
    "\n",
    "    def __init__(self):\n",
    "        pass\n",
    "\n",
    "class CajaDeAhorro(CuentaBancaria):\n",
    "\n",
    "    # constructores se heredan\n",
    "    def __init__(self):\n",
    "        # se puede invocar del constructor de la subclase a la superclase con super().__init__()\n",
    "        super().__init__()"
   ]
  },
  {
   "cell_type": "markdown",
   "id": "30224ae7-9895-4544-908e-60ab09aac4e6",
   "metadata": {},
   "source": [
    "## Métodos\n",
    "---"
   ]
  },
  {
   "cell_type": "markdown",
   "id": "b4acd140-ae13-4211-b369-24267ba125aa",
   "metadata": {},
   "source": [
    "* Si heredo métodos que no tienen sentido en la subclase, la jerarquía fue forzada -> MAL DISEÑO\n",
    "* Si heredo métodos que son insuficientes en la subclase -> OVERWRITING\n",
    "* La sobreescritura puede ser PARCIAL o TOTAL\n",
    "* Para sobrescribir un método se debe respetar la signatura del mismo"
   ]
  },
  {
   "cell_type": "code",
   "execution_count": null,
   "id": "4110e3e2-f5d1-4c2f-afc7-f1b6c89ea073",
   "metadata": {},
   "outputs": [],
   "source": [
    "def __str__(self):\n",
    "    pass"
   ]
  },
  {
   "cell_type": "code",
   "execution_count": 3,
   "id": "944f6444-5985-4725-8946-34c0d0109877",
   "metadata": {},
   "outputs": [],
   "source": [
    "def __eq__(self, otro_objeto):\n",
    "    pass"
   ]
  },
  {
   "cell_type": "code",
   "execution_count": 5,
   "id": "79a0dcdf-1c30-485e-8de6-2ac288b9b62a",
   "metadata": {},
   "outputs": [
    {
     "name": "stdout",
     "output_type": "stream",
     "text": [
      "<__main__.CajaDeAhorro object at 0x0000015838D616E0>\n"
     ]
    },
    {
     "data": {
      "text/plain": [
       "False"
      ]
     },
     "execution_count": 5,
     "metadata": {},
     "output_type": "execute_result"
    }
   ],
   "source": [
    "## Invocamos a los metodos para ver que traen\n",
    "ca1 = CajaDeAhorro()\n",
    "ca2 = CajaDeAhorro()\n",
    "\n",
    "print(ca1.__str__())\n",
    "ca1 == ca2"
   ]
  },
  {
   "cell_type": "code",
   "execution_count": 11,
   "id": "2b37d8e0-78cf-4d78-82a9-64b8d70b2c8c",
   "metadata": {},
   "outputs": [],
   "source": [
    "class CajaDeAhorro(CuentaBancaria):\n",
    "\n",
    "    # constructores se heredan\n",
    "    def __init__(self, numero):\n",
    "        # se puede invocar del constructor de la subclase a la superclase con super().__init__()\n",
    "        super().__init__()\n",
    "        self.numero = numero\n",
    "\n",
    "    #Sobreescribiendo el metodo __str__ heredado de object\n",
    "    def __str__(self):\n",
    "       return \"Soy una caja de ahorro\"\n",
    "    \n",
    "    #Sobreescribiendo el metodo __eq__ heredado de object\n",
    "    def __eq__(self, otro_objeto):\n",
    "       return self.numero == otro_objeto.numero"
   ]
  },
  {
   "cell_type": "code",
   "execution_count": 12,
   "id": "bc2fd126-2426-4d5c-a431-e933e767bb49",
   "metadata": {},
   "outputs": [
    {
     "name": "stdout",
     "output_type": "stream",
     "text": [
      "Soy una caja de ahorro\n"
     ]
    },
    {
     "data": {
      "text/plain": [
       "True"
      ]
     },
     "execution_count": 12,
     "metadata": {},
     "output_type": "execute_result"
    }
   ],
   "source": [
    "## Invocamos a los metodos para ver que traen luego de la sobreescritura\n",
    "ca1 = CajaDeAhorro(123)\n",
    "ca2 = CajaDeAhorro(123)\n",
    "\n",
    "print(ca1.__str__())\n",
    "ca1 == ca2"
   ]
  },
  {
   "cell_type": "code",
   "execution_count": null,
   "id": "828dde30-a99f-4a8a-a65f-cfa85dfed5b2",
   "metadata": {},
   "outputs": [],
   "source": [
    "## EJEMPLO DE SOBREESCRITURA TOTAL\n",
    "class Animal:\n",
    "    def __init__(self, nombre):\n",
    "        self.nombre = nombre\n",
    "    \n",
    "    def hacer_sonido(self):\n",
    "        print(\"Este animal hace un sonido\")\n",
    "\n",
    "# Clase hija\n",
    "class Perro(Animal):\n",
    "    def hacer_sonido(self):  # Sobrescribimos el método\n",
    "        print(\"Guau!\")\n",
    "\n",
    "class Gato(Animal):\n",
    "    def hacer_sonido(self):  # Sobrescribimos el método\n",
    "        print(\"Miau!\")"
   ]
  },
  {
   "cell_type": "code",
   "execution_count": 13,
   "id": "067eca2c-7461-49b6-a46b-743d24aa6ec0",
   "metadata": {},
   "outputs": [
    {
     "name": "stdout",
     "output_type": "stream",
     "text": [
      "La marca del vehiculo esFiat\n",
      "El modelo es: 600\n"
     ]
    }
   ],
   "source": [
    "## EJEMPLO DE SOBREESCRITURA PARCIAL\n",
    "## Haciendo uso del super() y agregando funcionalidad particular\n",
    "\n",
    "class Vehiculo:\n",
    "    def __init__(self, marca):\n",
    "        self.marca = marca\n",
    "\n",
    "    def info(self):\n",
    "        print(f\"La marca del vehiculo es{self.marca}\")\n",
    "\n",
    "class Auto(Vehiculo):\n",
    "    def __init__(self, modelo, marca):\n",
    "        super().__init__(marca)\n",
    "        self.modelo = modelo\n",
    "\n",
    "    def info(self):\n",
    "        super().info()\n",
    "        print(f\"El modelo es: {self.modelo}\")\n",
    "\n",
    "auto = Auto(\"600\", \"Fiat\")\n",
    "auto.info()"
   ]
  },
  {
   "cell_type": "code",
   "execution_count": 23,
   "id": "213eb6ad-4a21-47be-8210-c51a4fa5ef4c",
   "metadata": {},
   "outputs": [
    {
     "name": "stdout",
     "output_type": "stream",
     "text": [
      "Vehículo marca Fiat\n",
      "Modelo: 600\n"
     ]
    }
   ],
   "source": [
    "\n",
    "class Vehiculo:\n",
    "    def __init__(self, marca):\n",
    "        self.marca = marca\n",
    "    \n",
    "    def info(self):\n",
    "        print(f\"Vehículo marca {self.marca}\")\n",
    "\n",
    "class Auto(Vehiculo):\n",
    "    def __init__(self, marca, modelo):\n",
    "        super().__init__(marca)  # Llamamos al constructor de la superclase\n",
    "        self.modelo = modelo\n",
    "    \n",
    "    def info(self):\n",
    "        super().info()  # Reutilizamos el método de la clase padre\n",
    "        print(f\"Modelo: {self.modelo}\")\n",
    "\n",
    "auto1 = Auto(\"Fiat\", \"600\")\n",
    "auto1.info()"
   ]
  },
  {
   "cell_type": "markdown",
   "id": "5f4304b0-93d1-41a0-9cfd-f40c72c2968f",
   "metadata": {},
   "source": [
    "## Herencia múltiple\n",
    "---"
   ]
  },
  {
   "cell_type": "code",
   "execution_count": 23,
   "id": "1ef4cb74-5a9f-424b-bc14-fec14f1e413c",
   "metadata": {},
   "outputs": [],
   "source": [
    "class A:\n",
    "\n",
    "    def m(self):\n",
    "        return \"soy m de la clase A\""
   ]
  },
  {
   "cell_type": "code",
   "execution_count": 24,
   "id": "638272b0-16c3-4fd4-a9dc-ff960164d2c2",
   "metadata": {},
   "outputs": [],
   "source": [
    "class B:\n",
    "    \n",
    "    def m(self):\n",
    "        return \"soy m de la clase B\""
   ]
  },
  {
   "cell_type": "code",
   "execution_count": 27,
   "id": "423a0f4c-8b44-40f5-b6a2-9b1d385c9711",
   "metadata": {},
   "outputs": [],
   "source": [
    "# se dá preferencia a la 1ra clase que se indique en la declaración\n",
    "# ante el problema si varias superclases tienen los mismos attr/methods\n",
    "class C(B, A):\n",
    "    pass"
   ]
  },
  {
   "cell_type": "code",
   "execution_count": 28,
   "id": "8b868401-3a1c-494b-b975-e67e5c5542f0",
   "metadata": {},
   "outputs": [
    {
     "name": "stdout",
     "output_type": "stream",
     "text": [
      "True\n",
      "True\n",
      "soy m de la clase B\n"
     ]
    }
   ],
   "source": [
    "c = C()\n",
    "print(isinstance(c, B))\n",
    "print(isinstance(c, A))\n",
    "print(c.m())"
   ]
  },
  {
   "cell_type": "code",
   "execution_count": 20,
   "id": "e0db6582-6bcd-449a-86f6-cc272ec802c9",
   "metadata": {},
   "outputs": [
    {
     "name": "stdout",
     "output_type": "stream",
     "text": [
      "jugando a Mario Bross\n"
     ]
    },
    {
     "data": {
      "text/plain": [
       "'20MPx'"
      ]
     },
     "execution_count": 20,
     "metadata": {},
     "output_type": "execute_result"
    }
   ],
   "source": [
    "class Telefono:\n",
    "    def __init__(self, numero):\n",
    "        self.numero = numero\n",
    "        \n",
    "    def llamar(self):\n",
    "        print(f\"llamando a {self.numero}\")\n",
    "\n",
    "class Camara:\n",
    "    def __init__(self, mpx):\n",
    "        self.mpx = mpx\n",
    "        \n",
    "    def sacar_foto(self):\n",
    "        print(\"foto sacada\")\n",
    "\n",
    "class Consola:\n",
    "    def __init__(self, nombre):\n",
    "        self.nombre = nombre        \n",
    "        \n",
    "    def jugar(self, juego):\n",
    "        print(\"jugando a \" + juego)\n",
    "\n",
    "\n",
    "class Smartphone(Telefono, Camara, Consola):\n",
    "    def __init__(self):\n",
    "        # En caso de conincir el nombre del metodo super() hace referencia a la primer clase padre definida\n",
    "        # Para imbocar el metodo de las otras hay que nombrarlas.\n",
    "        # super().__init__(1234)\n",
    "        Telefono.__init__(self, 1234)\n",
    "        Camara.__init__(self,\"20MPx\")\n",
    "        Consola.__init__(self,\"XBOX\")\n",
    "\n",
    "    def usar(self):\n",
    "        print(\"estoy usando el smartphone\")\n",
    "\n",
    "\n",
    "\n",
    "sm = Smartphone()\n",
    "sm.jugar(\"Mario Bross\")\n",
    "sm.mpx\n",
    "\n"
   ]
  }
 ],
 "metadata": {
  "kernelspec": {
   "display_name": "Python [conda env:base] *",
   "language": "python",
   "name": "conda-base-py"
  },
  "language_info": {
   "codemirror_mode": {
    "name": "ipython",
    "version": 3
   },
   "file_extension": ".py",
   "mimetype": "text/x-python",
   "name": "python",
   "nbconvert_exporter": "python",
   "pygments_lexer": "ipython3",
   "version": "3.13.5"
  }
 },
 "nbformat": 4,
 "nbformat_minor": 5
}
