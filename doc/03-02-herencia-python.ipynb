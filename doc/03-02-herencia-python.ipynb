{
 "cells": [
  {
   "cell_type": "markdown",
   "id": "1e5195db-29e0-42fe-9b31-ba99982275e8",
   "metadata": {},
   "source": [
    "# Herencia - Python\n",
    "---"
   ]
  },
  {
   "cell_type": "markdown",
   "id": "03712f6d-9f50-4457-a03d-26dbc3c682fa",
   "metadata": {},
   "source": [
    "## Ejemplo\n",
    "---"
   ]
  },
  {
   "cell_type": "code",
   "execution_count": 15,
   "id": "3f70ab60-4a75-4973-bf18-affde7ed06b3",
   "metadata": {},
   "outputs": [],
   "source": [
    "class CuentaBancaria: \n",
    "\n",
    "    def __init__(self):\n",
    "        pass\n",
    "\n",
    "class CajaDeAhorro(CuentaBancaria):\n",
    "\n",
    "    # constructores se heredan\n",
    "    def __init__(self):\n",
    "        # se puede invocar del constructor de la subclase a la superclase con super().__init__()\n",
    "        super().__init__()"
   ]
  },
  {
   "cell_type": "markdown",
   "id": "30224ae7-9895-4544-908e-60ab09aac4e6",
   "metadata": {},
   "source": [
    "## Métodos\n",
    "---"
   ]
  },
  {
   "cell_type": "markdown",
   "id": "b4acd140-ae13-4211-b369-24267ba125aa",
   "metadata": {},
   "source": [
    "* Si heredo métodos que no tienen sentido en la subclase, la jerarquía fue forzada -> MAL DISEÑO\n",
    "* Si heredo métodos que son insuficientes en la subclase -> OVERWRITING\n",
    "* La sobreescritura puede ser PARCIAL o TOTAL\n",
    "* Para sobrescribir un método se debe respetar la signatura del mismo"
   ]
  },
  {
   "cell_type": "code",
   "execution_count": 9,
   "id": "4110e3e2-f5d1-4c2f-afc7-f1b6c89ea073",
   "metadata": {},
   "outputs": [],
   "source": [
    "def __str__(self):\n",
    "    pass"
   ]
  },
  {
   "cell_type": "code",
   "execution_count": 10,
   "id": "944f6444-5985-4725-8946-34c0d0109877",
   "metadata": {},
   "outputs": [],
   "source": [
    "def __eq__(self, otro_objeto):\n",
    "    pass"
   ]
  },
  {
   "cell_type": "code",
   "execution_count": 16,
   "id": "79a0dcdf-1c30-485e-8de6-2ac288b9b62a",
   "metadata": {},
   "outputs": [
    {
     "name": "stdout",
     "output_type": "stream",
     "text": [
      "Objeto ca1 y su ubicación en memoria  <__main__.CajaDeAhorro object at 0x0000017B5A6F0980>\n",
      "Objeto ca2 y su ubicación en memoria  <__main__.CajaDeAhorro object at 0x0000017B5A918CD0>\n",
      "False\n"
     ]
    }
   ],
   "source": [
    "## Invocamos a los metodos para ver que traen\n",
    "ca1 = CajaDeAhorro()\n",
    "ca2 = CajaDeAhorro()\n",
    "\n",
    "print(\"Objeto ca1 y su ubicación en memoria \",ca1.__str__())\n",
    "print(\"Objeto ca2 y su ubicación en memoria \",ca2.__str__()) \n",
    "print(ca1 == ca2)"
   ]
  },
  {
   "cell_type": "code",
   "execution_count": 18,
   "id": "2b37d8e0-78cf-4d78-82a9-64b8d70b2c8c",
   "metadata": {},
   "outputs": [],
   "source": [
    "class CajaDeAhorro(CuentaBancaria):\n",
    "\n",
    "    # constructores se heredan\n",
    "    def __init__(self, numero):\n",
    "        # se puede invocar del constructor de la subclase a la superclase con super().__init__()\n",
    "        super().__init__()\n",
    "        self.numero = numero\n",
    "\n",
    "    #Sobreescribiendo el metodo __str__ heredado de object\n",
    "    def __str__(self):\n",
    "       return \"Soy una caja de ahorro\"\n",
    "    \n",
    "    #Sobreescribiendo el metodo __eq__ heredado de object\n",
    "    def __eq__(self, otro_objeto):\n",
    "       return self.numero == otro_objeto.numero"
   ]
  },
  {
   "cell_type": "code",
   "execution_count": 21,
   "id": "bc2fd126-2426-4d5c-a431-e933e767bb49",
   "metadata": {},
   "outputs": [
    {
     "name": "stdout",
     "output_type": "stream",
     "text": [
      "Ahora muestra el texto definido: Soy una caja de ahorro\n",
      "True\n"
     ]
    }
   ],
   "source": [
    "## Invocamos a los metodos para ver que traen luego de la sobreescritura\n",
    "ca1 = CajaDeAhorro(123)\n",
    "ca2 = CajaDeAhorro(123)\n",
    "\n",
    "print(\"Ahora muestra el texto definido:\",ca1.__str__())\n",
    "print(ca1 == ca2)"
   ]
  },
  {
   "cell_type": "code",
   "execution_count": null,
   "id": "828dde30-a99f-4a8a-a65f-cfa85dfed5b2",
   "metadata": {},
   "outputs": [],
   "source": [
    "## EJEMPLO DE SOBREESCRITURA TOTAL\n",
    "class Animal:\n",
    "    def __init__(self, nombre):\n",
    "        self.nombre = nombre\n",
    "    \n",
    "    def hacer_sonido(self):\n",
    "        print(\"Este animal hace un sonido\")\n",
    "\n",
    "# Clase hija\n",
    "class Perro(Animal):\n",
    "    def hacer_sonido(self):  # Sobrescribimos el método\n",
    "        print(\"Guau!\")\n",
    "\n",
    "class Gato(Animal):\n",
    "    def hacer_sonido(self):  # Sobrescribimos el método\n",
    "        print(\"Miau!\")"
   ]
  },
  {
   "cell_type": "code",
   "execution_count": 13,
   "id": "067eca2c-7461-49b6-a46b-743d24aa6ec0",
   "metadata": {},
   "outputs": [
    {
     "name": "stdout",
     "output_type": "stream",
     "text": [
      "La marca del vehiculo esFiat\n",
      "El modelo es: 600\n"
     ]
    }
   ],
   "source": [
    "## EJEMPLO DE SOBREESCRITURA PARCIAL\n",
    "## Haciendo uso del super() y agregando funcionalidad particular\n",
    "\n",
    "class Vehiculo:\n",
    "    def __init__(self, marca):\n",
    "        self.marca = marca\n",
    "\n",
    "    def info(self):\n",
    "        print(f\"La marca del vehiculo es{self.marca}\")\n",
    "\n",
    "class Auto(Vehiculo):\n",
    "    def __init__(self, modelo, marca):\n",
    "        super().__init__(marca)\n",
    "        self.modelo = modelo\n",
    "\n",
    "    def info(self):\n",
    "        super().info()\n",
    "        print(f\"El modelo es: {self.modelo}\")\n",
    "\n",
    "auto = Auto(\"600\", \"Fiat\")\n",
    "auto.info()"
   ]
  },
  {
   "cell_type": "code",
   "execution_count": 23,
   "id": "213eb6ad-4a21-47be-8210-c51a4fa5ef4c",
   "metadata": {},
   "outputs": [
    {
     "name": "stdout",
     "output_type": "stream",
     "text": [
      "Vehículo marca Fiat\n",
      "Modelo: 600\n"
     ]
    }
   ],
   "source": [
    "\n",
    "class Vehiculo:\n",
    "    def __init__(self, marca):\n",
    "        self.marca = marca\n",
    "    \n",
    "    def info(self):\n",
    "        print(f\"Vehículo marca {self.marca}\")\n",
    "\n",
    "class Auto(Vehiculo):\n",
    "    def __init__(self, marca, modelo):\n",
    "        super().__init__(marca)  # Llamamos al constructor de la superclase\n",
    "        self.modelo = modelo\n",
    "    \n",
    "    def info(self):\n",
    "        super().info()  # Reutilizamos el método de la clase padre\n",
    "        print(f\"Modelo: {self.modelo}\")\n",
    "\n",
    "auto1 = Auto(\"Fiat\", \"600\")\n",
    "auto1.info()"
   ]
  },
  {
   "cell_type": "markdown",
   "id": "5f4304b0-93d1-41a0-9cfd-f40c72c2968f",
   "metadata": {},
   "source": [
    "## Herencia múltiple\n",
    "---"
   ]
  },
  {
   "cell_type": "code",
   "execution_count": 40,
   "id": "1ef4cb74-5a9f-424b-bc14-fec14f1e413c",
   "metadata": {},
   "outputs": [],
   "source": [
    "class A:\n",
    "\n",
    "    def m(self):\n",
    "        return \"soy m de la clase A\""
   ]
  },
  {
   "cell_type": "code",
   "execution_count": 41,
   "id": "638272b0-16c3-4fd4-a9dc-ff960164d2c2",
   "metadata": {},
   "outputs": [],
   "source": [
    "class B:\n",
    "    \n",
    "    def m(self):\n",
    "        return \"soy m de la clase B\""
   ]
  },
  {
   "cell_type": "code",
   "execution_count": 42,
   "id": "423a0f4c-8b44-40f5-b6a2-9b1d385c9711",
   "metadata": {},
   "outputs": [],
   "source": [
    "# se dá preferencia a la 1ra clase que se indique en la declaración\n",
    "# ante el problema si varias superclases tienen los mismos attr/methods\n",
    "class C(A,B):\n",
    "    pass"
   ]
  },
  {
   "cell_type": "code",
   "execution_count": 43,
   "id": "8b868401-3a1c-494b-b975-e67e5c5542f0",
   "metadata": {},
   "outputs": [
    {
     "name": "stdout",
     "output_type": "stream",
     "text": [
      "True\n",
      "True\n",
      "soy m de la clase A\n"
     ]
    }
   ],
   "source": [
    "c = C()\n",
    "print(isinstance(c, B))\n",
    "print(isinstance(c, A))\n",
    "print(c.m())"
   ]
  },
  {
   "cell_type": "code",
   "execution_count": 20,
   "id": "e0db6582-6bcd-449a-86f6-cc272ec802c9",
   "metadata": {},
   "outputs": [
    {
     "name": "stdout",
     "output_type": "stream",
     "text": [
      "jugando a Mario Bross\n"
     ]
    },
    {
     "data": {
      "text/plain": [
       "'20MPx'"
      ]
     },
     "execution_count": 20,
     "metadata": {},
     "output_type": "execute_result"
    }
   ],
   "source": [
    "class Telefono:\n",
    "    def __init__(self, numero):\n",
    "        self.numero = numero\n",
    "        \n",
    "    def llamar(self):\n",
    "        print(f\"llamando a {self.numero}\")\n",
    "\n",
    "class Camara:\n",
    "    def __init__(self, mpx):\n",
    "        self.mpx = mpx\n",
    "        \n",
    "    def sacar_foto(self):\n",
    "        print(\"foto sacada\")\n",
    "\n",
    "class Consola:\n",
    "    def __init__(self, nombre):\n",
    "        self.nombre = nombre        \n",
    "        \n",
    "    def jugar(self, juego):\n",
    "        print(\"jugando a \" + juego)\n",
    "\n",
    "\n",
    "class Smartphone(Telefono, Camara, Consola):\n",
    "    def __init__(self):\n",
    "        # En caso de conincir el nombre del metodo super() hace referencia a la primer clase padre definida\n",
    "        # Para imbocar el metodo de las otras hay que nombrarlas.\n",
    "        # super().__init__(1234)\n",
    "        Telefono.__init__(self, 1234)\n",
    "        Camara.__init__(self,\"20MPx\")\n",
    "        Consola.__init__(self,\"XBOX\")\n",
    "\n",
    "    def usar(self):\n",
    "        print(\"estoy usando el smartphone\")\n",
    "\n",
    "\n",
    "\n",
    "sm = Smartphone()\n",
    "sm.jugar(\"Mario Bross\")\n",
    "sm.mpx\n",
    "\n"
   ]
  },
  {
   "cell_type": "markdown",
   "id": "e8e275de-7729-4a22-8ba7-d11341067aff",
   "metadata": {},
   "source": [
    "### Diseño clases: Herencia consumiendo datos reales desde csv\n"
   ]
  },
  {
   "cell_type": "code",
   "execution_count": 44,
   "id": "9e5b1a94-96f8-42ea-8c3c-df80688e7467",
   "metadata": {},
   "outputs": [],
   "source": [
    "# Definir las clases con herencia\n",
    "\n",
    "class Transporte:\n",
    "    def __init__(self, nombre, linea, estado, ultima_actualizacion, frecuencia):\n",
    "        self.nombre = nombre\n",
    "        self.linea = linea\n",
    "        self.estado = estado\n",
    "        self.ultima_actualizacion = ultima_actualizacion\n",
    "        self.frecuencia = frecuencia\n",
    "    \n",
    "    def descripcion(self):\n",
    "        return f\"{self.nombre} (Línea {self.linea}) - Estado: {self.estado} - Última actualización: {self.ultima_actualizacion}\"\n",
    "\n",
    "\n",
    "class Colectivo(Transporte):\n",
    "    def __init__(self, nombre, linea, estado, ultima_actualizacion, frecuencia, recorrido):\n",
    "        super().__init__(nombre, linea, estado, ultima_actualizacion, frecuencia)\n",
    "        self.recorrido = recorrido\n",
    "        \n",
    "    \n",
    "    def descripcion(self):\n",
    "        return f\"Colectivo {self.linea} - {self.estado} - Frecuencia: {self.frecuencia} min - Recorrido: {self.recorrido}\"\n",
    "\n",
    "\n",
    "class Subte(Transporte):\n",
    "    def __init__(self, nombre, linea, estado, ultima_actualizacion, frecuencia, estaciones):\n",
    "        super().__init__(nombre, linea, estado, ultima_actualizacion, frecuencia)\n",
    "        self.estaciones = estaciones\n",
    "    \n",
    "    def descripcion(self):\n",
    "        return f\"Subte {self.linea} - {self.estado} - Frecuencia: {self.frecuencia} min - Estaciones: {self.estaciones}\"\n",
    "\n",
    "\n",
    "class Tren(Transporte):\n",
    "    def __init__(self, nombre, linea, estado, ultima_actualizacion, frecuencia, estaciones):\n",
    "        super().__init__(nombre, linea, estado, ultima_actualizacion, frecuencia)\n",
    "        self.estaciones = estaciones\n",
    "    \n",
    "    def descripcion(self):\n",
    "        return f\"Tren {self.linea} - {self.estado} - Frecuencia: {self.frecuencia} min - Estaciones: {self.estaciones}\"\n"
   ]
  },
  {
   "cell_type": "code",
   "execution_count": 45,
   "id": "8a856d24-638d-4ece-b71e-2f3e6eb4dffc",
   "metadata": {},
   "outputs": [
    {
     "name": "stdout",
     "output_type": "stream",
     "text": [
      "Se cargaron 25 registros desde el CSV\n"
     ]
    }
   ],
   "source": [
    "# Leer el CSV y generar los objetos\n",
    "import csv\n",
    "# transportes=[]\n",
    "\n",
    "colectivos = []\n",
    "trenes=[]\n",
    "subtes=[]\n",
    "\n",
    "with open(\"servicios_transporte.csv\", \"r\", encoding=\"utf-8\") as f:\n",
    "    datos = csv.DictReader(f)\n",
    "    \n",
    "    for registro in datos:\n",
    "        if registro[\"tipo\"] == \"colectivo\":\n",
    "            t = Colectivo(registro[\"nombre\"], registro[\"linea\"], registro[\"estado\"], registro[\"ultima_actualizacion\"], registro[\"frecuencia\"], registro[\"recorrido\"])\n",
    "            colectivos.append(t)\n",
    "        elif registro[\"tipo\"] == \"subte\":\n",
    "            t = Subte(registro[\"nombre\"], registro[\"linea\"], registro[\"estado\"], registro[\"ultima_actualizacion\"], registro[\"frecuencia\"], registro[\"estaciones\"])\n",
    "            subtes.append(t)\n",
    "        elif registro[\"tipo\"] == \"tren\":\n",
    "            t = Tren(registro[\"nombre\"], registro[\"linea\"], registro[\"estado\"], registro[\"ultima_actualizacion\"], registro[\"frecuencia\"], registro[\"estaciones\"])\n",
    "            trenes.append(t)\n",
    "        # transportes.append(t)\n",
    "print(f\"Se cargaron {len(transportes)} registros desde el CSV\")\n"
   ]
  },
  {
   "cell_type": "code",
   "execution_count": 46,
   "id": "724f55ff-02f2-427b-ae78-1ea5f3b6d87f",
   "metadata": {},
   "outputs": [
    {
     "name": "stdout",
     "output_type": "stream",
     "text": [
      "Colectivo 12 - funcionando - Frecuencia: 10 min - Recorrido: Barracas - Plaza Once\n",
      "Colectivo 152 - demorado - Frecuencia: 15 min - Recorrido: Olivos - La Boca\n",
      "Colectivo 39 - funcionando - Frecuencia: 12 min - Recorrido: Chacarita - Barracas\n",
      "Colectivo 68 - en mantenimiento - Frecuencia: 20 min - Recorrido: Villa Luro - Retiro\n",
      "Colectivo 132 - funcionando - Frecuencia: 9 min - Recorrido: Saavedra - Once\n",
      "Colectivo 29 - demorado - Frecuencia: 14 min - Recorrido: Belgrano - La Boca\n",
      "Colectivo 41 - funcionando - Frecuencia: 11 min - Recorrido: Lanús - Plaza Italia\n",
      "Colectivo 124 - funcionando - Frecuencia: 13 min - Recorrido: Constitución - Palermo\n",
      "Colectivo 5 - en mantenimiento - Frecuencia: 18 min - Recorrido: Caballito - Congreso\n",
      "Colectivo 132 - funcionando - Frecuencia: 9 min - Recorrido: Saavedra - Once\n",
      "Subte A - funcionando - Frecuencia: 4 min - Estaciones: Plaza de Mayo - San Pedrito\n",
      "Subte B - demorado - Frecuencia: 5 min - Estaciones: Leandro N. Alem - Juan Manuel de Rosas\n",
      "Subte C - funcionando - Frecuencia: 3 min - Estaciones: Retiro - Constitución\n",
      "Subte D - en mantenimiento - Frecuencia: 6 min - Estaciones: Catedral - Congreso de Tucumán\n",
      "Subte E - funcionando - Frecuencia: 7 min - Estaciones: Retiro - Plaza de los Virreyes\n",
      "Subte H - funcionando - Frecuencia: 5 min - Estaciones: Hospitales - Facultad de Derecho\n",
      "Tren Roca - funcionando - Frecuencia: 20 min - Estaciones: Constitución - La Plata\n",
      "Tren Mitre - demorado - Frecuencia: 18 min - Estaciones: Retiro - Tigre\n",
      "Tren San Martín - funcionando - Frecuencia: 15 min - Estaciones: Retiro - Pilar\n",
      "Tren Belgrano Sur - funcionando - Frecuencia: 22 min - Estaciones: Buenos Aires - González Catán\n",
      "Tren Belgrano Norte - funcionando - Frecuencia: 19 min - Estaciones: Retiro - Villa Rosa\n",
      "Tren Sarmiento - demorado - Frecuencia: 17 min - Estaciones: Once - Moreno\n",
      "Tren Urquiza - funcionando - Frecuencia: 16 min - Estaciones: Chacarita - General Lemos\n",
      "Tren Roca - en mantenimiento - Frecuencia: 25 min - Estaciones: Constitución - Temperley\n",
      "Tren Mitre - funcionando - Frecuencia: 14 min - Estaciones: Retiro - Bartolomé Mitre\n"
     ]
    }
   ],
   "source": [
    "# Mostrar las descripciones de todos los transportes\n",
    "\n",
    "for t in transportes:\n",
    "    print(t.descripcion())"
   ]
  },
  {
   "cell_type": "code",
   "execution_count": null,
   "id": "60ef8f52-f139-4265-94a9-d895b8278bbe",
   "metadata": {},
   "outputs": [],
   "source": []
  }
 ],
 "metadata": {
  "kernelspec": {
   "display_name": "Python [conda env:base] *",
   "language": "python",
   "name": "conda-base-py"
  },
  "language_info": {
   "codemirror_mode": {
    "name": "ipython",
    "version": 3
   },
   "file_extension": ".py",
   "mimetype": "text/x-python",
   "name": "python",
   "nbconvert_exporter": "python",
   "pygments_lexer": "ipython3",
   "version": "3.13.5"
  }
 },
 "nbformat": 4,
 "nbformat_minor": 5
}
