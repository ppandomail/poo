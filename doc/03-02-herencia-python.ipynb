{
 "cells": [
  {
   "cell_type": "markdown",
   "id": "1e5195db-29e0-42fe-9b31-ba99982275e8",
   "metadata": {},
   "source": [
    "# Herencia - Python\n",
    "---"
   ]
  },
  {
   "cell_type": "markdown",
   "id": "03712f6d-9f50-4457-a03d-26dbc3c682fa",
   "metadata": {},
   "source": [
    "## Ejemplo\n",
    "---"
   ]
  },
  {
   "cell_type": "code",
   "execution_count": 16,
   "id": "3f70ab60-4a75-4973-bf18-affde7ed06b3",
   "metadata": {},
   "outputs": [],
   "source": [
    "class CuentaBancaria: \n",
    "\n",
    "    def __init__(self):\n",
    "        pass\n",
    "\n",
    "class CajaDeAhorro(CuentaBancaria):\n",
    "\n",
    "    # constructores se heredan\n",
    "    def __init__(self):\n",
    "        # se puede invocar del constructor de la subclase a la superclase con super().__init__()\n",
    "        super().__init__()"
   ]
  },
  {
   "cell_type": "markdown",
   "id": "30224ae7-9895-4544-908e-60ab09aac4e6",
   "metadata": {},
   "source": [
    "## Métodos\n",
    "---"
   ]
  },
  {
   "cell_type": "markdown",
   "id": "b4acd140-ae13-4211-b369-24267ba125aa",
   "metadata": {},
   "source": [
    "* Si heredo métodos que no tienen sentido en la subclase, la jerarquía fue forzada -> MAL DISEÑO\n",
    "* Si heredo métodos que son insuficientes en la subclase -> OVERWRITING\n",
    "* La sobreescritura puede ser PARCIAL o TOTAL\n",
    "* Para sobrescribir un método se debe respetar la signatura del mismo"
   ]
  },
  {
   "cell_type": "code",
   "execution_count": 17,
   "id": "4110e3e2-f5d1-4c2f-afc7-f1b6c89ea073",
   "metadata": {},
   "outputs": [],
   "source": [
    "def __str__(self):\n",
    "    pass"
   ]
  },
  {
   "cell_type": "code",
   "execution_count": 18,
   "id": "944f6444-5985-4725-8946-34c0d0109877",
   "metadata": {},
   "outputs": [],
   "source": [
    "def __eq__(self, otro_objeto):\n",
    "    pass"
   ]
  },
  {
   "cell_type": "code",
   "execution_count": 19,
   "id": "79a0dcdf-1c30-485e-8de6-2ac288b9b62a",
   "metadata": {},
   "outputs": [
    {
     "name": "stdout",
     "output_type": "stream",
     "text": [
      "<__main__.CajaDeAhorro object at 0x1388a86e0>\n"
     ]
    },
    {
     "data": {
      "text/plain": [
       "False"
      ]
     },
     "execution_count": 19,
     "metadata": {},
     "output_type": "execute_result"
    }
   ],
   "source": [
    "# Se invoca a los métodos para ver que traen\n",
    "ca1 = CajaDeAhorro()\n",
    "ca2 = CajaDeAhorro()\n",
    "\n",
    "print(ca1.__str__())\n",
    "ca1 == ca2"
   ]
  },
  {
   "cell_type": "markdown",
   "id": "aa9a5a34-3518-41d1-a7fc-be06bab98647",
   "metadata": {},
   "source": [
    "### Ejemplo de sobreescritura"
   ]
  },
  {
   "cell_type": "code",
   "execution_count": 20,
   "id": "2b37d8e0-78cf-4d78-82a9-64b8d70b2c8c",
   "metadata": {},
   "outputs": [],
   "source": [
    "class CajaDeAhorro(CuentaBancaria):\n",
    "\n",
    "    # Constructores se heredan\n",
    "    def __init__(self, numero):\n",
    "        super().__init__()      # Se puede invocar al constructor de la superclase\n",
    "        self.numero = numero\n",
    "\n",
    "    # Se sobreescribe el método __str__ heredado de object\n",
    "    def __str__(self):\n",
    "       return \"Soy una caja de ahorro\"\n",
    "    \n",
    "    # Se sobreescribe el método __eq__ heredado de object\n",
    "    def __eq__(self, otro_objeto):\n",
    "       return self.numero == otro_objeto.numero"
   ]
  },
  {
   "cell_type": "code",
   "execution_count": 21,
   "id": "bc2fd126-2426-4d5c-a431-e933e767bb49",
   "metadata": {},
   "outputs": [
    {
     "name": "stdout",
     "output_type": "stream",
     "text": [
      "Soy una caja de ahorro\n"
     ]
    },
    {
     "data": {
      "text/plain": [
       "True"
      ]
     },
     "execution_count": 21,
     "metadata": {},
     "output_type": "execute_result"
    }
   ],
   "source": [
    "# Se invoca a los métodos para ver que traen luego de la sobreescritura\n",
    "ca1 = CajaDeAhorro(123)\n",
    "ca2 = CajaDeAhorro(123)\n",
    "\n",
    "print(ca1.__str__())\n",
    "ca1 == ca2"
   ]
  },
  {
   "cell_type": "markdown",
   "id": "3c54517e-d5c0-4e58-9d1c-8c49866265db",
   "metadata": {},
   "source": [
    "### Ejemplo de sobreescritura total"
   ]
  },
  {
   "cell_type": "code",
   "execution_count": 22,
   "id": "828dde30-a99f-4a8a-a65f-cfa85dfed5b2",
   "metadata": {},
   "outputs": [],
   "source": [
    "class Animal:\n",
    "    \n",
    "    def __init__(self, nombre):\n",
    "        self.nombre = nombre\n",
    "    \n",
    "    def hacer_sonido(self):\n",
    "        print(\"Este animal hace un sonido\")\n",
    "\n",
    "class Perro(Animal):\n",
    "    \n",
    "    def hacer_sonido(self):  # Se sobreescribe el método\n",
    "        print(\"Guau!\")\n",
    "\n",
    "class Gato(Animal):\n",
    "    \n",
    "    def hacer_sonido(self):  # Se sobreescribe el método\n",
    "        print(\"Miau!\")"
   ]
  },
  {
   "cell_type": "markdown",
   "id": "165ec78b-08d7-4517-8b2a-61b2334ce9ff",
   "metadata": {},
   "source": [
    "### Ejemplo de sobreescritura parcial"
   ]
  },
  {
   "cell_type": "code",
   "execution_count": 23,
   "id": "067eca2c-7461-49b6-a46b-743d24aa6ec0",
   "metadata": {},
   "outputs": [
    {
     "name": "stdout",
     "output_type": "stream",
     "text": [
      "La marca del vehiculo es: Fiat\n",
      "El modelo es: 600\n"
     ]
    }
   ],
   "source": [
    "class Vehiculo:\n",
    "    \n",
    "    def __init__(self, marca):\n",
    "        self.marca = marca\n",
    "\n",
    "    def info(self):\n",
    "        print(f\"La marca del vehiculo es: {self.marca}\")\n",
    "\n",
    "class Auto(Vehiculo):\n",
    "    \n",
    "    def __init__(self, marca, modelo):\n",
    "        super().__init__(marca)                 # Se invoca constructor de la superclase\n",
    "        self.modelo = modelo\n",
    "\n",
    "    def info(self):\n",
    "        super().info()                          # Se invoca método de la superclase\n",
    "        print(f\"El modelo es: {self.modelo}\")\n",
    "\n",
    "auto = Auto('Fiat', '600')\n",
    "auto.info()"
   ]
  },
  {
   "cell_type": "markdown",
   "id": "5f4304b0-93d1-41a0-9cfd-f40c72c2968f",
   "metadata": {},
   "source": [
    "## Herencia múltiple\n",
    "---"
   ]
  },
  {
   "cell_type": "code",
   "execution_count": 24,
   "id": "1ef4cb74-5a9f-424b-bc14-fec14f1e413c",
   "metadata": {},
   "outputs": [],
   "source": [
    "class A:\n",
    "\n",
    "    def m(self):\n",
    "        return \"soy m de la clase A\""
   ]
  },
  {
   "cell_type": "code",
   "execution_count": 25,
   "id": "638272b0-16c3-4fd4-a9dc-ff960164d2c2",
   "metadata": {},
   "outputs": [],
   "source": [
    "class B:\n",
    "    \n",
    "    def m(self):\n",
    "        return \"soy m de la clase B\""
   ]
  },
  {
   "cell_type": "code",
   "execution_count": 26,
   "id": "423a0f4c-8b44-40f5-b6a2-9b1d385c9711",
   "metadata": {},
   "outputs": [],
   "source": [
    "# Se dá preferencia a la 1ra clase que se indique en la declaración\n",
    "# ante el problema si varias superclases tienen los mismos attr/methods\n",
    "class C(B, A):\n",
    "    pass"
   ]
  },
  {
   "cell_type": "code",
   "execution_count": 27,
   "id": "8b868401-3a1c-494b-b975-e67e5c5542f0",
   "metadata": {},
   "outputs": [
    {
     "name": "stdout",
     "output_type": "stream",
     "text": [
      "True\n",
      "True\n",
      "soy m de la clase B\n"
     ]
    }
   ],
   "source": [
    "c = C()\n",
    "print(isinstance(c, B))\n",
    "print(isinstance(c, A))\n",
    "print(c.m())"
   ]
  },
  {
   "cell_type": "code",
   "execution_count": 28,
   "id": "e0db6582-6bcd-449a-86f6-cc272ec802c9",
   "metadata": {},
   "outputs": [
    {
     "name": "stdout",
     "output_type": "stream",
     "text": [
      "jugando a Mario Bross\n"
     ]
    },
    {
     "data": {
      "text/plain": [
       "'20MPx'"
      ]
     },
     "execution_count": 28,
     "metadata": {},
     "output_type": "execute_result"
    }
   ],
   "source": [
    "class Telefono:\n",
    "    \n",
    "    def __init__(self, numero):\n",
    "        self.numero = numero\n",
    "        \n",
    "    def llamar(self):\n",
    "        print(f\"llamando a {self.numero}\")\n",
    "\n",
    "class Camara:\n",
    "    \n",
    "    def __init__(self, mpx):\n",
    "        self.mpx = mpx\n",
    "        \n",
    "    def sacar_foto(self):\n",
    "        print(\"foto sacada\")\n",
    "\n",
    "class Consola:\n",
    "    \n",
    "    def __init__(self, nombre):\n",
    "        self.nombre = nombre        \n",
    "        \n",
    "    def jugar(self, juego):\n",
    "        print(\"jugando a \" + juego)\n",
    "\n",
    "\n",
    "class Smartphone(Telefono, Camara, Consola):\n",
    "    \n",
    "    def __init__(self):\n",
    "        # En caso de coincidir el nombre del metodo super() hace referencia a la primer clase padre definida\n",
    "        # Para invocar el método de las otras hay que nombrarlas\n",
    "        # super().__init__(1234)\n",
    "        Telefono.__init__(self, 1234)\n",
    "        Camara.__init__(self, '20MPx')\n",
    "        Consola.__init__(self, 'XBOX')\n",
    "\n",
    "    def usar(self):\n",
    "        print(\"Estoy usando el smartphone\")\n",
    "\n",
    "sm = Smartphone()\n",
    "sm.jugar(\"Mario Bross\")\n",
    "sm.mpx"
   ]
  },
  {
   "cell_type": "markdown",
   "id": "e8e275de-7729-4a22-8ba7-d11341067aff",
   "metadata": {},
   "source": [
    "## Ejemplo: herencia consumiendo datos reales desde csv"
   ]
  },
  {
   "cell_type": "code",
   "execution_count": 29,
   "id": "9e5b1a94-96f8-42ea-8c3c-df80688e7467",
   "metadata": {},
   "outputs": [],
   "source": [
    "# Se define la jerarquía de clases\n",
    "class Transporte:\n",
    "    \n",
    "    def __init__(self, nombre, linea, estado, ultima_actualizacion, frecuencia):\n",
    "        self.nombre = nombre\n",
    "        self.linea = linea\n",
    "        self.estado = estado\n",
    "        self.ultima_actualizacion = ultima_actualizacion\n",
    "        self.frecuencia = frecuencia\n",
    "    \n",
    "    def descripcion(self):\n",
    "        return f\"{self.nombre} (Línea {self.linea}) - Estado: {self.estado} - Última actualización: {self.ultima_actualizacion}\"\n",
    "\n",
    "\n",
    "class Colectivo(Transporte):\n",
    "    \n",
    "    def __init__(self, nombre, linea, estado, ultima_actualizacion, frecuencia, recorrido):\n",
    "        super().__init__(nombre, linea, estado, ultima_actualizacion, frecuencia)\n",
    "        self.recorrido = recorrido\n",
    "        \n",
    "    def descripcion(self):\n",
    "        return f\"Colectivo {self.linea} - {self.estado} - Frecuencia: {self.frecuencia} min - Recorrido: {self.recorrido}\"\n",
    "\n",
    "\n",
    "class Subte(Transporte):\n",
    "    \n",
    "    def __init__(self, nombre, linea, estado, ultima_actualizacion, frecuencia, estaciones):\n",
    "        super().__init__(nombre, linea, estado, ultima_actualizacion, frecuencia)\n",
    "        self.estaciones = estaciones\n",
    "    \n",
    "    def descripcion(self):\n",
    "        return f\"Subte {self.linea} - {self.estado} - Frecuencia: {self.frecuencia} min - Estaciones: {self.estaciones}\"\n",
    "\n",
    "\n",
    "class Tren(Transporte):\n",
    "\n",
    "    def __init__(self, nombre, linea, estado, ultima_actualizacion, frecuencia, estaciones):\n",
    "        super().__init__(nombre, linea, estado, ultima_actualizacion, frecuencia)\n",
    "        self.estaciones = estaciones\n",
    "    \n",
    "    def descripcion(self):\n",
    "        return f\"Tren {self.linea} - {self.estado} - Frecuencia: {self.frecuencia} min - Estaciones: {self.estaciones}\""
   ]
  },
  {
   "cell_type": "code",
   "execution_count": 30,
   "id": "8a856d24-638d-4ece-b71e-2f3e6eb4dffc",
   "metadata": {},
   "outputs": [
    {
     "name": "stdout",
     "output_type": "stream",
     "text": [
      "Se cargaron 25 registros desde el CSV\n"
     ]
    }
   ],
   "source": [
    "# Se lee el archivo csv y se generan los objetos\n",
    "import csv\n",
    "\n",
    "transportes = []\n",
    "\n",
    "with open(\"servicios_transporte.csv\", \"r\", encoding=\"utf-8\") as f:\n",
    "    datos = csv.DictReader(f)\n",
    "    \n",
    "    for registro in datos:\n",
    "        if registro[\"tipo\"] == \"colectivo\":\n",
    "            t = Colectivo(registro[\"nombre\"], registro[\"linea\"], registro[\"estado\"], registro[\"ultima_actualizacion\"], registro[\"recorrido\"], registro[\"frecuencia\"])\n",
    "        elif registro[\"tipo\"] == \"subte\":\n",
    "            t = Subte(registro[\"nombre\"], registro[\"linea\"], registro[\"estado\"], registro[\"ultima_actualizacion\"], registro[\"estaciones\"], registro[\"frecuencia\"])\n",
    "        elif registro[\"tipo\"] == \"tren\":\n",
    "            t = Tren(registro[\"nombre\"], registro[\"linea\"], registro[\"estado\"], registro[\"ultima_actualizacion\"], registro[\"estaciones\"], registro[\"frecuencia\"])\n",
    "        transportes.append(t)\n",
    "\n",
    "print(f\"Se cargaron {len(transportes)} registros desde el CSV\")"
   ]
  },
  {
   "cell_type": "code",
   "execution_count": 31,
   "id": "724f55ff-02f2-427b-ae78-1ea5f3b6d87f",
   "metadata": {},
   "outputs": [
    {
     "name": "stdout",
     "output_type": "stream",
     "text": [
      "Colectivo 12 - funcionando - Frecuencia: Barracas - Plaza Once min - Recorrido: 10\n",
      "Colectivo 152 - demorado - Frecuencia: Olivos - La Boca min - Recorrido: 15\n",
      "Colectivo 39 - funcionando - Frecuencia: Chacarita - Barracas min - Recorrido: 12\n",
      "Colectivo 68 - en mantenimiento - Frecuencia: Villa Luro - Retiro min - Recorrido: 20\n",
      "Colectivo 132 - funcionando - Frecuencia: Saavedra - Once min - Recorrido: 9\n",
      "Colectivo 29 - demorado - Frecuencia: Belgrano - La Boca min - Recorrido: 14\n",
      "Colectivo 41 - funcionando - Frecuencia: Lanús - Plaza Italia min - Recorrido: 11\n",
      "Colectivo 124 - funcionando - Frecuencia: Constitución - Palermo min - Recorrido: 13\n",
      "Colectivo 5 - en mantenimiento - Frecuencia: Caballito - Congreso min - Recorrido: 18\n",
      "Colectivo 132 - funcionando - Frecuencia: Saavedra - Once min - Recorrido: 9\n",
      "Subte A - funcionando - Frecuencia: Plaza de Mayo - San Pedrito min - Estaciones: 4\n",
      "Subte B - demorado - Frecuencia: Leandro N. Alem - Juan Manuel de Rosas min - Estaciones: 5\n",
      "Subte C - funcionando - Frecuencia: Retiro - Constitución min - Estaciones: 3\n",
      "Subte D - en mantenimiento - Frecuencia: Catedral - Congreso de Tucumán min - Estaciones: 6\n",
      "Subte E - funcionando - Frecuencia: Retiro - Plaza de los Virreyes min - Estaciones: 7\n",
      "Subte H - funcionando - Frecuencia: Hospitales - Facultad de Derecho min - Estaciones: 5\n",
      "Tren Roca - funcionando - Frecuencia: Constitución - La Plata min - Estaciones: 20\n",
      "Tren Mitre - demorado - Frecuencia: Retiro - Tigre min - Estaciones: 18\n",
      "Tren San Martín - funcionando - Frecuencia: Retiro - Pilar min - Estaciones: 15\n",
      "Tren Belgrano Sur - funcionando - Frecuencia: Buenos Aires - González Catán min - Estaciones: 22\n",
      "Tren Belgrano Norte - funcionando - Frecuencia: Retiro - Villa Rosa min - Estaciones: 19\n",
      "Tren Sarmiento - demorado - Frecuencia: Once - Moreno min - Estaciones: 17\n",
      "Tren Urquiza - funcionando - Frecuencia: Chacarita - General Lemos min - Estaciones: 16\n",
      "Tren Roca - en mantenimiento - Frecuencia: Constitución - Temperley min - Estaciones: 25\n",
      "Tren Mitre - funcionando - Frecuencia: Retiro - Bartolomé Mitre min - Estaciones: 14\n"
     ]
    }
   ],
   "source": [
    "# Se muestran las descripciones de todos los transportes\n",
    "for t in transportes:\n",
    "    print(t.descripcion())"
   ]
  }
 ],
 "metadata": {
  "kernelspec": {
   "display_name": "Python [conda env:base] *",
   "language": "python",
   "name": "conda-base-py"
  },
  "language_info": {
   "codemirror_mode": {
    "name": "ipython",
    "version": 3
   },
   "file_extension": ".py",
   "mimetype": "text/x-python",
   "name": "python",
   "nbconvert_exporter": "python",
   "pygments_lexer": "ipython3",
   "version": "3.12.7"
  }
 },
 "nbformat": 4,
 "nbformat_minor": 5
}
