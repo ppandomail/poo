{
 "cells": [
  {
   "cell_type": "markdown",
   "id": "127924ba-e833-405b-8e46-2f92dc45faeb",
   "metadata": {},
   "source": [
    "# Encapsulamiento - Python\n",
    "---"
   ]
  },
  {
   "cell_type": "markdown",
   "id": "2711859b-f22b-4317-b13f-14fed365ebcb",
   "metadata": {},
   "source": [
    "## Paquete\n",
    "---"
   ]
  },
  {
   "cell_type": "markdown",
   "id": "9fadeaaf-e1eb-4bc4-a6bf-7329398fa1db",
   "metadata": {},
   "source": [
    "* Directorios donde se almacenarán módulos (archivos con extensión .py) relacionados entre sí\n",
    "* Se crea una carpeta con un archivo \\_\\_init__.py"
   ]
  },
  {
   "cell_type": "code",
   "execution_count": 7,
   "id": "c9bdd066-b67a-4ac9-866a-8495b40a302d",
   "metadata": {},
   "outputs": [
    {
     "name": "stdout",
     "output_type": "stream",
     "text": [
      "Writing calculos.py\n"
     ]
    }
   ],
   "source": [
    "%%file calculos.py\n",
    "# Módulo calculos.py\n",
    "def sumar(op1, op2):\n",
    "    return op1 + op2"
   ]
  },
  {
   "cell_type": "code",
   "execution_count": 1,
   "id": "e5e66a2a-44ba-49d4-9632-b432d35688ec",
   "metadata": {},
   "outputs": [
    {
     "name": "stdout",
     "output_type": "stream",
     "text": [
      "5.9\n"
     ]
    }
   ],
   "source": [
    "import utilidades.calculos as calc\n",
    "\n",
    "print(calc.sumar(2.5, 3.4))\n",
    "\n",
    "# Otra forma:\n",
    "# from utilidades.calculos import *\n",
    "# print(sumar(2.5, 3.4))"
   ]
  },
  {
   "cell_type": "markdown",
   "id": "4840f881-c6da-46c1-a155-7b925424c5df",
   "metadata": {},
   "source": [
    "## Clase\n",
    "---"
   ]
  },
  {
   "cell_type": "markdown",
   "id": "e30786c4-a6e1-4c9e-abdb-26482a6a7872",
   "metadata": {},
   "source": [
    "* Modelo (plantilla, molde) donde se redactan las características comunes de un grupo de objetos\n",
    "* Tiene como responsabilidad crear objetos del mismo tipo\n",
    "* Se compone de una declaración y un cuerpo"
   ]
  },
  {
   "cell_type": "code",
   "execution_count": 17,
   "id": "989b11ae-5289-402c-9635-7078f0b2029d",
   "metadata": {},
   "outputs": [
    {
     "name": "stdout",
     "output_type": "stream",
     "text": [
      "Parado\n",
      "En marcha\n"
     ]
    }
   ],
   "source": [
    "class Auto:\n",
    "\n",
    "    # constructor: inicializa los atributos del objeto\n",
    "    # self: objeto actual\n",
    "    def __init__(self, ruedas=4):\n",
    "      # atributos del objeto\n",
    "      # prefijo __ significa private\n",
    "      self.__ruedas = ruedas\n",
    "      self.__enmarcha = False\n",
    "    \n",
    "    # métodos\n",
    "    def arrancar(self):\n",
    "      self.__enmarcha = True\n",
    "    \n",
    "    def get_estado(self):\n",
    "      if self.__enmarcha:\n",
    "        return 'En marcha'\n",
    "      else:\n",
    "        return 'Parado'\n",
    "\n",
    "auto = Auto()\n",
    "print(auto.get_estado())\n",
    "auto.arrancar()\n",
    "auto.__enmarcha = False    # no hay error, tampoco modifica porque está encapsulado\n",
    "print(auto.get_estado())"
   ]
  },
  {
   "cell_type": "markdown",
   "id": "490dfee5-e83c-47b3-b13f-c25d7fc6eff4",
   "metadata": {},
   "source": [
    "## Modificadores\n",
    "---"
   ]
  },
  {
   "cell_type": "code",
   "execution_count": 16,
   "id": "be7c762b-5b75-4376-8503-c271d99cfe02",
   "metadata": {},
   "outputs": [
    {
     "name": "stdout",
     "output_type": "stream",
     "text": [
      "mamifero\n",
      "Guau\n",
      "Caminando 10 pasos\n"
     ]
    },
    {
     "data": {
      "text/plain": [
       "'Método estático'"
      ]
     },
     "execution_count": 16,
     "metadata": {},
     "output_type": "execute_result"
    }
   ],
   "source": [
    "# Clase pública\n",
    "class Perro:\n",
    "\n",
    "    # atributo de clase (comunes para todos los objetos)\n",
    "    especie = 'mamifero'\n",
    "    \n",
    "    # constructor\n",
    "    def __init__(self, nombre, raza):\n",
    "      # atributos de instancia\n",
    "      # self: representa la instancia de la clase\n",
    "      # __atributo: accesibilidad privada\n",
    "      self.__nombre = nombre\n",
    "      self.__raza = raza\n",
    "    \n",
    "    # métodos de instancia: acceder y modificar atributos del objeto y acceder a otros métodos\n",
    "    # método de instancia sin parámetros\n",
    "    def ladra(self):\n",
    "      print('Guau')\n",
    "    \n",
    "    # método de instancia con parámetros\n",
    "    def camina(self, pasos):\n",
    "      print(f\"Caminando {pasos} pasos\")\n",
    "    \n",
    "    # método de clase: pueden modificar los atributos de la clase\n",
    "    @classmethod\n",
    "    def metodo_clase(cls):\n",
    "      return cls\n",
    "    \n",
    "    # método estático: no pueden modificar el estado ni de la clase ni de la instancia\n",
    "    @staticmethod\n",
    "    def metodo_estatico():\n",
    "      return \"Método estático\"\n",
    "\n",
    "# Objeto de la clase Perro\n",
    "mi_perro = Perro('Toby', 'Bulldog')\n",
    "print(Perro.especie)\n",
    "mi_perro.ladra()\n",
    "mi_perro.camina(10)\n",
    "Perro.metodo_clase()\n",
    "Perro.metodo_estatico()"
   ]
  },
  {
   "cell_type": "markdown",
   "id": "b844cc4f-ae23-46d3-b4f0-074a5e2fc4fe",
   "metadata": {},
   "source": [
    "## Convenciones de nombres\n",
    "---"
   ]
  },
  {
   "cell_type": "markdown",
   "id": "4fc1fbc6-b7dc-4a9b-8eea-0ae933b6603a",
   "metadata": {},
   "source": [
    "|                | UpperCamelCase | LowerCamelCase | LowerSnackCase     | UpperSnackCase |\n",
    "| --             | --             | --             | --                 | --             |\n",
    "| **Paquete**    |                |                | calculos_generales |                |\n",
    "| **Clase**      | AutoJapones    |                |                    |                |\n",
    "| **Atributo**   |                |                | last_name          |                |\n",
    "| **Método**     |                |                | get_salary()       |                |\n",
    "| **Constantes** |                |                |                    | NUMERO_PI      |"
   ]
  },
  {
   "cell_type": "markdown",
   "id": "d42c7306-80cd-4bda-9f89-635ac56ece75",
   "metadata": {},
   "source": [
    "## Métodos Getters y Setters (accesores)\n",
    "---"
   ]
  },
  {
   "cell_type": "markdown",
   "id": "940969d4-aa28-4de7-8c45-d9dd5776abd0",
   "metadata": {},
   "source": [
    "|             |            | Sirven para ... |\n",
    "| --          | --         | -- |\n",
    "| **Getters** | obtener    | obtener el valor de un atributo    |\n",
    "| **Setters** | establecer | establecer el valor de un atributo |"
   ]
  },
  {
   "cell_type": "markdown",
   "id": "f8e48034-338f-4851-983a-ed8eb88826b6",
   "metadata": {},
   "source": [
    "* En Python, se puede usar el decorador **@property** para definir un **getter** sin necesidad de llamarlo como función, permitiendo acceso controlado con sintaxis más limpia"
   ]
  },
  {
   "cell_type": "code",
   "execution_count": 5,
   "id": "f324006a-bd7e-4c7f-993e-8a7bcfe52306",
   "metadata": {},
   "outputs": [
    {
     "name": "stdout",
     "output_type": "stream",
     "text": [
      "Alice\n"
     ]
    }
   ],
   "source": [
    "class Persona:\n",
    "    \n",
    "    def __init__(self, nombre):\n",
    "      self._nombre = nombre\n",
    "    \n",
    "    @property\n",
    "    def nombre(self):\n",
    "      return self._nombre          # Se accede como un atributo, no como método\n",
    "    \n",
    "    @nombre.setter\n",
    "    def nombre(self, nuevo_nombre):\n",
    "      self._nombre = nuevo_nombre  # Permite modificarlo como un atributo\n",
    "\n",
    "# Uso\n",
    "p = Persona(\"Alice\")\n",
    "print(p.nombre)   # Accede como un atributo, no es necesario usar 'getNombre()'\n",
    "p.nombre = \"Bob\"  # Modifica con el setter, no es necesario usar 'setNombre(...)'"
   ]
  },
  {
   "cell_type": "markdown",
   "id": "e28e216a-5739-4d2c-b789-5deda1e8f0df",
   "metadata": {},
   "source": [
    "## Métodos privados\n",
    "---"
   ]
  },
  {
   "cell_type": "markdown",
   "id": "7d264661-a06a-462a-997f-4488b5724833",
   "metadata": {},
   "source": [
    "* Se declaran métodos privados cuando:\n",
    "  * Demasiado cerca de la implementación\n",
    "  * Requieren un determinado orden de llamada\n",
    "  * Se utilizan en las operaciones de la propia clase\n",
    "* La base del encapsulamiento se basa en que determinados métodos o atributos **no deben ser de acceso público por seguridad de manejo de datos**"
   ]
  },
  {
   "cell_type": "code",
   "execution_count": 7,
   "id": "c0e0651b-1c73-4dd0-9a8e-9a2990bc181b",
   "metadata": {},
   "outputs": [],
   "source": [
    "class Laptop:\n",
    "\n",
    "    def __init__(self, color, marca):\n",
    "        self.color = color\n",
    "        self.marca = marca\n",
    "    \n",
    "    def encender(self):\n",
    "        pass\n",
    "    \n",
    "    def apagar(self):\n",
    "        pass\n",
    "    \n",
    "    def reiniciar(self):\n",
    "        pass\n",
    "    \n",
    "    def __cambiarRAM(self):\n",
    "        pass\n",
    "    \n",
    "    def __cambiarHDD(self):\n",
    "        pass"
   ]
  },
  {
   "cell_type": "markdown",
   "id": "44608b68-9d28-4124-b869-c0192b8f0ab9",
   "metadata": {},
   "source": [
    "## Sintaxis básica\n",
    "---"
   ]
  },
  {
   "cell_type": "markdown",
   "id": "3c5a36a0-b1db-4697-bfec-7d356fefce0c",
   "metadata": {},
   "source": [
    "![Ejemplo Python](img/python-ejemplo.jpg)"
   ]
  },
  {
   "cell_type": "code",
   "execution_count": 26,
   "id": "66446df9-db8f-4900-ace7-74c3fd9c8340",
   "metadata": {},
   "outputs": [
    {
     "name": "stdout",
     "output_type": "stream",
     "text": [
      "[1]\n",
      "[2][2][1]\n",
      "False\n"
     ]
    }
   ],
   "source": [
    "import random\n",
    "\n",
    "class Tambor:\n",
    "\n",
    "    def __init__(self):\n",
    "        self.__posicion = 0\n",
    "    \n",
    "    def girar(self):\n",
    "        self.__posicion = random.randint(1, 3)\n",
    "    \n",
    "    def mostrar(self):\n",
    "        return \"[\" + str(self.__posicion) + \"]\"\n",
    "    \n",
    "class Tragamonedas:\n",
    "\n",
    "    def __init__(self):\n",
    "        self.__t1 = Tambor()\n",
    "        self.__t2 = Tambor()\n",
    "        self.__t3 = Tambor()\n",
    "    \n",
    "    def activar(self):\n",
    "        self.__t1.girar()\n",
    "        self.__t2.girar()\n",
    "        self.__t3.girar()\n",
    "    \n",
    "    def mostrar(self):\n",
    "        return self.__t1.mostrar() + self.__t2.mostrar() + self.__t3.mostrar()\n",
    "    \n",
    "    def get_gano(self):\n",
    "        return self.__t1.mostrar() == self.__t2.mostrar() == self.__t3.mostrar()\n",
    "\n",
    "tambor = Tambor()\n",
    "tambor.girar()\n",
    "print(tambor.mostrar())\n",
    "tgm = Tragamonedas()\n",
    "tgm.activar()\n",
    "print(tgm.mostrar())\n",
    "print(tgm.get_gano())"
   ]
  },
  {
   "cell_type": "markdown",
   "id": "3919cd6c-8e62-44dc-8b19-e2fbfdef68a1",
   "metadata": {},
   "source": [
    "## Enumeradores\n",
    "---"
   ]
  },
  {
   "cell_type": "markdown",
   "id": "78b0c3aa-ff28-4a21-9d08-8ccbb079777d",
   "metadata": {},
   "source": [
    "* Conjunto de nombres simbólicos (miembros) asociados a valores únicos e inmutables\n",
    "* Para representar **constantes nombradas**, haciendo el código más claro y seguro\n",
    "* Para declarar variables con un conjunto restringido de valores"
   ]
  },
  {
   "cell_type": "code",
   "execution_count": 9,
   "id": "438cd616-a409-4665-a342-23e47063dad7",
   "metadata": {},
   "outputs": [
    {
     "name": "stdout",
     "output_type": "stream",
     "text": [
      "Color.ROJO\n",
      "1\n",
      "ROJO\n",
      "Son diferentes\n",
      "Color.VERDE\n",
      "Color.AZUL\n"
     ]
    }
   ],
   "source": [
    "from enum import Enum\n",
    "\n",
    "class Color(Enum):\n",
    "    ROJO = 1\n",
    "    VERDE = 2\n",
    "    AZUL = 3\n",
    "\n",
    "print(Color.ROJO)       # Color.ROJO\n",
    "print(Color.ROJO.value) # 1\n",
    "print(Color.ROJO.name)  # 'ROJO'\n",
    "\n",
    "if Color.ROJO == Color.VERDE:\n",
    "    print(\"Son iguales\")\n",
    "else:\n",
    "    print(\"Son diferentes\")\n",
    "\n",
    "print(Color(2))       # Color.VERDE, es el miembro con valor 2\n",
    "print(Color[\"AZUL\"])  # Color.AZUL, accede al miembro por su nombre"
   ]
  },
  {
   "cell_type": "code",
   "execution_count": 10,
   "id": "65c66bb2-f41f-4c5c-8880-8db0430aed34",
   "metadata": {},
   "outputs": [
    {
     "name": "stdout",
     "output_type": "stream",
     "text": [
      "True\n",
      "False\n"
     ]
    }
   ],
   "source": [
    "class Direccion(Enum):\n",
    "    NORTE = \"N\"\n",
    "    SUR = \"S\"\n",
    "    ESTE = \"E\"\n",
    "    OESTE = \"O\"\n",
    "\n",
    "    # Los Enums en Python pueden tener métodos personalizados\n",
    "    def es_horizontal(self):\n",
    "        return self in (Direccion.ESTE, Direccion.OESTE)\n",
    "\n",
    "print(Direccion.ESTE.es_horizontal())  # True\n",
    "print(Direccion.NORTE.es_horizontal()) # False"
   ]
  },
  {
   "cell_type": "code",
   "execution_count": 14,
   "id": "4c8e8625-bfcc-439b-9837-39dd93c534a6",
   "metadata": {},
   "outputs": [
    {
     "name": "stdout",
     "output_type": "stream",
     "text": [
      "Detenerse!!\n"
     ]
    }
   ],
   "source": [
    "## Ejemplo string vs enum\n",
    "color_actual = \"Rojo\"\n",
    "if color_actual == \"Rojo\":\n",
    "    print(\"Detenerse!!\")\n",
    "elif color_actual == \"Verde\":\n",
    "    print(\"Avanzar!!\")\n",
    "else:\n",
    "    print(\"Precaucion!\")"
   ]
  },
  {
   "cell_type": "code",
   "execution_count": 16,
   "id": "b5b5d7b8-ed25-4552-beec-bfe4bae339f8",
   "metadata": {},
   "outputs": [
    {
     "name": "stdout",
     "output_type": "stream",
     "text": [
      "Avazar!\n"
     ]
    }
   ],
   "source": [
    "## Implementado Enum\n",
    "from enum import Enum\n",
    "class Semaforo(Enum):\n",
    "    ROJO = \"Rojo\"\n",
    "    AMARILLO = \"Amarillo\"\n",
    "    VERDE = \"Verde\"\n",
    "\n",
    "color_actual= Semaforo.VERDE\n",
    "\n",
    "if color_actual == Semaforo.ROJO:\n",
    "    print(\"Detenerse!\")\n",
    "elif color_actual ==  Semaforo.VERDE:\n",
    "    print(\"Avazar!\")\n",
    "elif color_actual ==  Semaforo.AMARILLO:\n",
    "    print(\"Precausion!\")\n",
    "\n"
   ]
  },
  {
   "cell_type": "markdown",
   "id": "8f0d3745-252d-418d-9bea-6ac5b2fc3a54",
   "metadata": {},
   "source": [
    "## Pruebas unitarias\n",
    "---"
   ]
  },
  {
   "cell_type": "markdown",
   "id": "fc6113af-7932-426f-82f2-1a71cee4f940",
   "metadata": {},
   "source": [
    "* Evaluar si el funcionamiento de cada uno de los métodos de la clase se comporta como se espera\n",
    "* El resultado de la prueba puede ser PASS o FAIL"
   ]
  },
  {
   "cell_type": "code",
   "execution_count": 56,
   "id": "cc68251d-d7a3-443c-8869-870474411c5b",
   "metadata": {},
   "outputs": [],
   "source": [
    "class Matematicas:\n",
    "\n",
    "  @staticmethod\n",
    "  def sumar(op1, op2):\n",
    "    return op1 + op2"
   ]
  },
  {
   "cell_type": "code",
   "execution_count": 57,
   "id": "5b5aae5a-d86e-4979-8bc7-06e1f9b3e8a9",
   "metadata": {},
   "outputs": [],
   "source": [
    "import unittest\n",
    "\n",
    "class SumadorTest(unittest.TestCase):\n",
    "\n",
    "  def test_suma_1_y_2(self):\n",
    "    self.assertEqual(3, Matematicas.sumar(1, 2))\n",
    "    \n",
    "  def test_suma_2_y_2(self):\n",
    "    self.assertEqual(5, Matematicas.sumar(2, 2))"
   ]
  },
  {
   "cell_type": "code",
   "execution_count": 66,
   "id": "75112fa4-a694-41b9-aeaa-1ead419386b2",
   "metadata": {},
   "outputs": [
    {
     "name": "stderr",
     "output_type": "stream",
     "text": [
      "test_suma_1_y_2 (__main__.SumadorTest.test_suma_1_y_2) ... ok\n",
      "test_suma_2_y_2 (__main__.SumadorTest.test_suma_2_y_2) ... FAIL\n",
      "\n",
      "======================================================================\n",
      "FAIL: test_suma_2_y_2 (__main__.SumadorTest.test_suma_2_y_2)\n",
      "----------------------------------------------------------------------\n",
      "Traceback (most recent call last):\n",
      "  File \"/var/folders/0n/g5l4v8c52nn4wxk7hl89vk3m0000gn/T/ipykernel_2680/2817879563.py\", line 9, in test_suma_2_y_2\n",
      "    self.assertEqual(5, Matematicas.sumar(2, 2))\n",
      "AssertionError: 5 != 4\n",
      "\n",
      "----------------------------------------------------------------------\n",
      "Ran 2 tests in 0.005s\n",
      "\n",
      "FAILED (failures=1)\n"
     ]
    },
    {
     "data": {
      "text/plain": [
       "<unittest.main.TestProgram at 0x13e442540>"
      ]
     },
     "execution_count": 66,
     "metadata": {},
     "output_type": "execute_result"
    }
   ],
   "source": [
    "unittest.main(defaultTest='SumadorTest', argv=[''], verbosity=2, exit=False)"
   ]
  },
  {
   "cell_type": "markdown",
   "id": "bfc19a9d-45ad-4c30-917e-6b4423082258",
   "metadata": {},
   "source": [
    "### Comandos útiles de unittest\n",
    "---"
   ]
  },
  {
   "cell_type": "markdown",
   "id": "d4bb9837-0eb3-4b05-9c43-c83a55cddb30",
   "metadata": {},
   "source": [
    "|                                         |                                                    |\n",
    "| --                                      | --                                                 |\n",
    "| self.assertEqual(a, b)                  | comprueba que a == b                               |\n",
    "| self.assertNotEqual(a, b)               | comprueba que a != b                               |\n",
    "| self.assertTrue(expr)                   | comprueba que la expresión sea True                |\n",
    "| self.assertFalse(expr)                  | comprueba que la expresión sea False               |\n",
    "| self.assertRaises(Error, funcion, args) | comprueba que se lance una excepción               |"
   ]
  },
  {
   "cell_type": "code",
   "execution_count": 67,
   "id": "5dfc39f0-1575-45a5-9709-ce0c09ae2e8c",
   "metadata": {},
   "outputs": [],
   "source": [
    "# Cuenta bancaria con Bug, permite retirar mas del saldo\n",
    "\n",
    "class CuentaBancaria:\n",
    "\n",
    "    def __init__(self, saldo_inicial=0):\n",
    "        self.__saldo = saldo_inicial\n",
    "\n",
    "    def get_saldo(self):\n",
    "        return self.__saldo\n",
    "    \n",
    "    def depositar(self, monto):\n",
    "        self.__saldo += monto\n",
    "\n",
    "    def retirar(self, monto):\n",
    "        self.__saldo -= monto"
   ]
  },
  {
   "cell_type": "code",
   "execution_count": 68,
   "id": "0bda1835-c613-4ee9-ab0a-84675e59aedf",
   "metadata": {},
   "outputs": [],
   "source": [
    "import unittest\n",
    "\n",
    "class TestCuentaBancaria(unittest.TestCase):\n",
    "\n",
    "    def test_depositar(self):\n",
    "        cuenta = CuentaBancaria(100)\n",
    "        cuenta.depositar(50)\n",
    "        self.assertEqual(cuenta.get_saldo(), 150)\n",
    "\n",
    "    def test_retiro(self):\n",
    "        cuenta = CuentaBancaria(100)\n",
    "        cuenta.retirar(40)\n",
    "        self.assertEqual(cuenta.get_saldo(), 60)\n",
    "\n",
    "    def test_retiro_invalido(self):\n",
    "        cuenta = CuentaBancaria(100)\n",
    "        with self.assertRaises(ValueError):\n",
    "            cuenta.retirar(120)"
   ]
  },
  {
   "cell_type": "code",
   "execution_count": 69,
   "id": "eec0770b-7693-4431-b03c-f82502d158a2",
   "metadata": {},
   "outputs": [
    {
     "name": "stderr",
     "output_type": "stream",
     "text": [
      "test_depositar (__main__.TestCuentaBancaria.test_depositar) ... ok\n",
      "test_retiro (__main__.TestCuentaBancaria.test_retiro) ... ok\n",
      "test_retiro_invalido (__main__.TestCuentaBancaria.test_retiro_invalido) ... FAIL\n",
      "\n",
      "======================================================================\n",
      "FAIL: test_retiro_invalido (__main__.TestCuentaBancaria.test_retiro_invalido)\n",
      "----------------------------------------------------------------------\n",
      "Traceback (most recent call last):\n",
      "  File \"/var/folders/0n/g5l4v8c52nn4wxk7hl89vk3m0000gn/T/ipykernel_2680/2046508662.py\", line 17, in test_retiro_invalido\n",
      "    with self.assertRaises(ValueError):\n",
      "         ^^^^^^^^^^^^^^^^^^^^^^^^^^^^^\n",
      "AssertionError: ValueError not raised\n",
      "\n",
      "----------------------------------------------------------------------\n",
      "Ran 3 tests in 0.008s\n",
      "\n",
      "FAILED (failures=1)\n"
     ]
    },
    {
     "data": {
      "text/plain": [
       "<unittest.main.TestProgram at 0x13aebda60>"
      ]
     },
     "execution_count": 69,
     "metadata": {},
     "output_type": "execute_result"
    }
   ],
   "source": [
    "unittest.main(defaultTest='TestCuentaBancaria', argv=[''], verbosity=2, exit=False)"
   ]
  },
  {
   "cell_type": "code",
   "execution_count": 70,
   "id": "3b922531-50a9-4f72-95ea-95e292658ee8",
   "metadata": {},
   "outputs": [],
   "source": [
    "# Metodo Solucionado\n",
    "class CuentaBancaria:\n",
    "    \n",
    "    def __init__(self, saldo_inicial=0):\n",
    "        self.__saldo = saldo_inicial\n",
    "\n",
    "    def get_saldo(self):\n",
    "        return self.__saldo\n",
    "    \n",
    "    def depositar(self, monto):\n",
    "        self.__saldo += monto\n",
    "\n",
    "    def retirar(self, monto):\n",
    "        if monto > self.__saldo:\n",
    "            raise ValueError(\"Fondos insuficientes\")\n",
    "        self.__saldo -= monto"
   ]
  },
  {
   "cell_type": "code",
   "execution_count": 71,
   "id": "fbc1673f-704e-400f-8c46-efc00052eae3",
   "metadata": {},
   "outputs": [
    {
     "name": "stderr",
     "output_type": "stream",
     "text": [
      "test_depositar (__main__.TestCuentaBancaria.test_depositar) ... ok\n",
      "test_retiro (__main__.TestCuentaBancaria.test_retiro) ... ok\n",
      "test_retiro_invalido (__main__.TestCuentaBancaria.test_retiro_invalido) ... ok\n",
      "\n",
      "----------------------------------------------------------------------\n",
      "Ran 3 tests in 0.008s\n",
      "\n",
      "OK\n"
     ]
    },
    {
     "data": {
      "text/plain": [
       "<unittest.main.TestProgram at 0x13e40bf50>"
      ]
     },
     "execution_count": 71,
     "metadata": {},
     "output_type": "execute_result"
    }
   ],
   "source": [
    "unittest.main(defaultTest='TestCuentaBancaria', argv=[''], verbosity=2, exit=False)"
   ]
  }
 ],
 "metadata": {
  "kernelspec": {
   "display_name": "Python [conda env:base] *",
   "language": "python",
   "name": "conda-base-py"
  },
  "language_info": {
   "codemirror_mode": {
    "name": "ipython",
    "version": 3
   },
   "file_extension": ".py",
   "mimetype": "text/x-python",
   "name": "python",
   "nbconvert_exporter": "python",
   "pygments_lexer": "ipython3",
   "version": "3.12.7"
  }
 },
 "nbformat": 4,
 "nbformat_minor": 5
}
