{
 "cells": [
  {
   "cell_type": "markdown",
   "id": "e2b8a679-eb2c-4828-be09-50441438f964",
   "metadata": {},
   "source": [
    "# TP - Herencia\n",
    "---"
   ]
  },
  {
   "cell_type": "markdown",
   "id": "90fe519c-f0ce-4f81-92d2-f1681d361df5",
   "metadata": {},
   "source": [
    "## Personas"
   ]
  },
  {
   "cell_type": "markdown",
   "id": "654615fb-8154-4985-aa7f-66a799634a86",
   "metadata": {},
   "source": [
    "Crear una clase Persona con los atributos nombre y apellido que sea la clase padre de otra clase Estudiante. Además, dicha clase, debe tener un método para mostrar nombre_completo() el cual debe mostrar el nombre acompañado del apellido. La clase Estudiante, debe tener como atributos edad y carrera y además contar con un método mostrar_carrera()"
   ]
  },
  {
   "cell_type": "code",
   "execution_count": 10,
   "id": "bf2e00d7-7f85-4bd1-a049-7ed5d0a6588c",
   "metadata": {},
   "outputs": [],
   "source": [
    "class Persona:\n",
    "\n",
    "    def __init__(self, nombre, apellido):\n",
    "        self.nombre = nombre\n",
    "        self.apellido = apellido\n",
    "    \n",
    "    def nombre_completo(self):\n",
    "        print(f'{self.nombre} {self.apellido}')"
   ]
  },
  {
   "cell_type": "code",
   "execution_count": 11,
   "id": "f108c59e-d34b-4a5e-863c-d7eefcbdda22",
   "metadata": {},
   "outputs": [],
   "source": [
    "class Estudiante(Persona):\n",
    "\n",
    "    def __init__(self, nombre, apellido, edad, carrera):\n",
    "        super().__init__(nombre, apellido)\n",
    "        self.edad = edad\n",
    "        self.carrera = carrera\n",
    "    \n",
    "    def mostrar_carrera(self):\n",
    "        print(self.carrera)"
   ]
  },
  {
   "cell_type": "code",
   "execution_count": 12,
   "id": "364b9db8-db60-4f8c-bee0-cce32345edcd",
   "metadata": {},
   "outputs": [
    {
     "name": "stdout",
     "output_type": "stream",
     "text": [
      "Pablo Pandolfo\n"
     ]
    }
   ],
   "source": [
    "persona = Persona('Pablo', 'Pandolfo')\n",
    "persona.nombre_completo()"
   ]
  },
  {
   "cell_type": "code",
   "execution_count": 13,
   "id": "a0b46d8a-061f-4577-948f-1fc7f0a3cc0d",
   "metadata": {},
   "outputs": [
    {
     "name": "stdout",
     "output_type": "stream",
     "text": [
      "Mariano Castroman\n",
      "informática\n"
     ]
    }
   ],
   "source": [
    "estudiante = Estudiante('Mariano', 'Castroman', 45, 'informática')\n",
    "estudiante.nombre_completo()\n",
    "estudiante.mostrar_carrera()"
   ]
  },
  {
   "cell_type": "markdown",
   "id": "5077bb98-ebae-43c6-831f-6fa2f03dc3f8",
   "metadata": {},
   "source": [
    "## Fabricas"
   ]
  },
  {
   "cell_type": "markdown",
   "id": "455d4860-4329-4f8d-8ca6-aae725e7ceed",
   "metadata": {},
   "source": [
    "Crear una clase Fabrica que tenga los atributos de Llantas, Color y Precio. Luego crear dos clases más que hereden de Fabrica, las cuales son Moto y Auto. Crear métodos que muestren la cantidad de llantas, color y precio de ambos transportes. Por último, crear objetos para cada clase y mostrar por pantalla los atributos de cada uno"
   ]
  },
  {
   "cell_type": "code",
   "execution_count": 18,
   "id": "455542ea-d02d-4621-9f4b-bb130bc85c6b",
   "metadata": {},
   "outputs": [],
   "source": [
    "class Fabrica:\n",
    "\n",
    "    def __init__(self, llantas, color, precio):\n",
    "        self.llantas = llantas\n",
    "        self.color = color\n",
    "        self.precio = precio\n",
    "    \n",
    "    def mostrar_llantas(self):\n",
    "        print(f'Llantas: {self.llantas}')\n",
    "    \n",
    "    def mostrar_color(self):\n",
    "        print(f'Color: {self.color}')\n",
    "    \n",
    "    def mostrar_precio(self):\n",
    "        print(f'Precio: {self.precio}')"
   ]
  },
  {
   "cell_type": "code",
   "execution_count": 19,
   "id": "128b877c-3b74-450e-9501-85cbf7ad4550",
   "metadata": {},
   "outputs": [],
   "source": [
    "class Moto(Fabrica):\n",
    "\n",
    "    def __init__(self, llantas, color, precio):\n",
    "        super().__init__(llantas, color, precio)"
   ]
  },
  {
   "cell_type": "code",
   "execution_count": 20,
   "id": "1e91abe7-c174-4d23-8a88-b2d3b0f1b6ca",
   "metadata": {},
   "outputs": [],
   "source": [
    "class Auto(Fabrica):\n",
    "\n",
    "    def __init__(self, llantas, color, precio):\n",
    "        super().__init__(llantas, color, precio)"
   ]
  },
  {
   "cell_type": "code",
   "execution_count": 21,
   "id": "6ddf66da-3ec2-4672-9de3-ac7243a5ab70",
   "metadata": {},
   "outputs": [],
   "source": [
    "fabrica = Fabrica(4, 'rojo', 1234.56)\n",
    "moto = Moto(2, 'negro', 12.34)\n",
    "auto = Auto(4, 'gris', 123.45)"
   ]
  },
  {
   "cell_type": "code",
   "execution_count": 22,
   "id": "1b84e49e-8c9b-4a85-86a3-197372236922",
   "metadata": {},
   "outputs": [
    {
     "name": "stdout",
     "output_type": "stream",
     "text": [
      "Llantas: 4\n",
      "Color: rojo\n",
      "Precio: 1234.56\n"
     ]
    }
   ],
   "source": [
    "fabrica.mostrar_llantas()\n",
    "fabrica.mostrar_color()\n",
    "fabrica.mostrar_precio()"
   ]
  },
  {
   "cell_type": "code",
   "execution_count": 23,
   "id": "7aa8ef31-794a-4004-8051-4d61274c007d",
   "metadata": {},
   "outputs": [
    {
     "name": "stdout",
     "output_type": "stream",
     "text": [
      "Llantas: 2\n",
      "Color: negro\n",
      "Precio: 12.34\n"
     ]
    }
   ],
   "source": [
    "moto.mostrar_llantas()\n",
    "moto.mostrar_color()\n",
    "moto.mostrar_precio()"
   ]
  },
  {
   "cell_type": "code",
   "execution_count": 24,
   "id": "613cfcc4-be3e-4258-b11f-e3c490999909",
   "metadata": {},
   "outputs": [
    {
     "name": "stdout",
     "output_type": "stream",
     "text": [
      "Llantas: 4\n",
      "Color: gris\n",
      "Precio: 123.45\n"
     ]
    }
   ],
   "source": [
    "auto.mostrar_llantas()\n",
    "auto.mostrar_color()\n",
    "auto.mostrar_precio()"
   ]
  },
  {
   "cell_type": "markdown",
   "id": "a2dde857-b01f-44a3-a51e-053f26a500d4",
   "metadata": {},
   "source": [
    "## Marinos"
   ]
  },
  {
   "cell_type": "markdown",
   "id": "a3bff437-7b41-4d96-934e-27752967b461",
   "metadata": {},
   "source": [
    "Crear una clase llamada Marino(), con un método que sea hablar, en donde muestre un mensaje que diga «Hola, soy un animal marino!». Luego, crear una clase Pulpo() que herede Marino, pero modificar el mensaje de hablar por «Hola soy un Pulpo!». Por último, crear una clase Foca(), heredada de Marino, pero que tenga un atributo nuevo llamado mensaje y que muestre ese mensaje como parámetro"
   ]
  },
  {
   "cell_type": "code",
   "execution_count": 25,
   "id": "65198675-554e-4e18-8cad-104ee92cbefd",
   "metadata": {},
   "outputs": [],
   "source": [
    "class Marino:\n",
    "\n",
    "    def hablar(self):\n",
    "        print('Hola, soy un animal marino!')"
   ]
  },
  {
   "cell_type": "code",
   "execution_count": 26,
   "id": "8a6db6f3-2c47-47a9-b81e-f72a0b97a887",
   "metadata": {},
   "outputs": [],
   "source": [
    "class Pulpo(Marino):\n",
    "\n",
    "    def hablar(self):\n",
    "        print('Hola, soy un Pulpo!')"
   ]
  },
  {
   "cell_type": "code",
   "execution_count": 27,
   "id": "5a1ad591-0c9f-4f91-94ae-e73084916d62",
   "metadata": {},
   "outputs": [],
   "source": [
    "class Foca(Marino):\n",
    "\n",
    "    def __init__(self, mensaje):\n",
    "        self.mensaje = mensaje\n",
    "    \n",
    "    def hablar(self):\n",
    "        print(self.mensaje)"
   ]
  },
  {
   "cell_type": "code",
   "execution_count": 28,
   "id": "f777d3dd-e557-477c-8a2e-8eccbed6d605",
   "metadata": {},
   "outputs": [
    {
     "name": "stdout",
     "output_type": "stream",
     "text": [
      "Hola, soy un animal marino!\n",
      "Hola, soy un Pulpo!\n",
      "Hola, soy una Foca!\n"
     ]
    }
   ],
   "source": [
    "Marino().hablar()\n",
    "Pulpo().hablar()\n",
    "Foca('Hola, soy una Foca!').hablar()"
   ]
  },
  {
   "cell_type": "markdown",
   "id": "9d893c3d-1cfe-4a6c-a2f8-382ec6d4ed74",
   "metadata": {},
   "source": [
    "## Vehiculos"
   ]
  },
  {
   "cell_type": "markdown",
   "id": "f64073e2-5283-4dea-b617-efccdac6bbc6",
   "metadata": {},
   "source": [
    "Existen dos tipos de vehículos: las motos, que llevan un chofer y un acompañante, y los colectivos, que llevan un chofer y varios pasajeros. Los vehículos deben conocer la cantidad de kilómetros recorridos, asignar y cambiar chofer. Cada vehículo particular deberá poder agregar un acompañante o diversos pasajeros, respectivamente. En caso del colectivo, no puede cambiar de chofer si hubiera pasajeros. En el caso de la moto, no puede hacerlo si hubiera un acompañante"
   ]
  },
  {
   "cell_type": "code",
   "execution_count": null,
   "id": "c687f3f4-3662-4a5e-9b6b-4ba7511b49ee",
   "metadata": {},
   "outputs": [],
   "source": []
  },
  {
   "cell_type": "markdown",
   "id": "fc0988aa-5ccc-4ae8-a7fc-accbd20416e1",
   "metadata": {},
   "source": [
    "## Empleados"
   ]
  },
  {
   "cell_type": "markdown",
   "id": "e7aae500-fb2c-447f-88de-1a3721a03030",
   "metadata": {},
   "source": [
    "Modele una Empresa con empleados. Una empresa conoce a todos sus empleados. Los empleados pueden ser de planta permanente o temporaria, además hay gerentes, que también son empleados de planta permanente, pero siguen un régimen salarial particular. Cuando un empleado es de planta permanente cobra la cantidad de horas trabajadas por 300 pesos, más antigüedad (100 pesos por año de antigüedad), más salario familiar. Cuando es de planta temporaria, no cobra antigüedad y cobra la cantidad de horas trabajadas por 200 pesos, más salario familiar. El salario familiar es 200 pesos por cada hijo, los empleados casados además cobran 100 pesos por su esposa/o. Un gerente cobra de manera similar a un empleado de planta permanente pero su hora trabajada vale 400 pesos, por antigüedad se le pagan 150 pesos por año, mientras que el salario familiar es el mismo que el de los empleados de planta permanente y temporal. Defina e implemente el mensaje montoTotal() en la clase Empresa, que retorna el monto total que la empresa debe pagar en concepto de sueldos a sus empleados. Provea una clase TestEmpresa para instanciar y testear su sistema"
   ]
  },
  {
   "cell_type": "code",
   "execution_count": null,
   "id": "14340566-1e90-469c-abcf-834b855eb28b",
   "metadata": {},
   "outputs": [],
   "source": []
  },
  {
   "cell_type": "markdown",
   "id": "4f8519f9-6f8d-4a7e-971d-cc0e92da3349",
   "metadata": {},
   "source": [
    "## Canciones"
   ]
  },
  {
   "cell_type": "markdown",
   "id": "4f469372-a24b-4879-b6b3-ed4f9e4c2a28",
   "metadata": {},
   "source": [
    "Construir una pequeña base de datos de canciones clásicas en CD. Para ello se debe definir una clase base Canción, de la cual descenderán todas las demás (clásica, pop, jazz, etc.). Nosotros solo implementaremos la clase Clásica. La clase abstracta Canción tendrá cuatro atributos:\n",
    "* número de referencia: identifica el CD de música, único para cada CD\n",
    "* titulo: nombre de la canción\n",
    "* álbum: nombre del disco\n",
    "* grupo: nombre del grupo que toca la canción\n",
    "* método abstract imprimirCancion()\n",
    "La clase Clásica hereda de Canción. Esta clase tendrá solo una variable adicional: instrumentos(String), que pondrá el tipo de instrumentos que se usan. Funcionalidades permitidas:\n",
    "* crear(): permite agregar una nueva canción\n",
    "* eliminar(): borrar una canción, dado su número de referencia\n",
    "* listado(): mostrar todas las canciones de la base de datos"
   ]
  },
  {
   "cell_type": "code",
   "execution_count": null,
   "id": "1302369d-4bfe-4821-affe-f478e771089f",
   "metadata": {},
   "outputs": [],
   "source": []
  }
 ],
 "metadata": {
  "kernelspec": {
   "display_name": "Python [conda env:base] *",
   "language": "python",
   "name": "conda-base-py"
  },
  "language_info": {
   "codemirror_mode": {
    "name": "ipython",
    "version": 3
   },
   "file_extension": ".py",
   "mimetype": "text/x-python",
   "name": "python",
   "nbconvert_exporter": "python",
   "pygments_lexer": "ipython3",
   "version": "3.12.7"
  }
 },
 "nbformat": 4,
 "nbformat_minor": 5
}
