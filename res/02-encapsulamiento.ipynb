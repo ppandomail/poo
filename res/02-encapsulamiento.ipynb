{
 "cells": [
  {
   "cell_type": "markdown",
   "id": "ff12425e-2bd6-46de-b869-194b1cb00ef2",
   "metadata": {},
   "source": [
    "# TP - Encapsulamiento\n",
    "---"
   ]
  },
  {
   "cell_type": "markdown",
   "id": "c04d6d81-4eed-4b82-9331-bc25609304d2",
   "metadata": {},
   "source": [
    "## Estudiante"
   ]
  },
  {
   "cell_type": "markdown",
   "id": "c7c54344-cbd3-43e7-a735-5520217ecec2",
   "metadata": {},
   "source": [
    "Realizar un programa que conste de una clase llamada Estudiante, que tenga  como atributos el nombre y la nota del alumno. Definir los métodos para inicializar sus atributos, imprimirlos y mostrar un mensaje con el resultado de la nota y si ha aprobado o no"
   ]
  },
  {
   "cell_type": "code",
   "execution_count": 3,
   "id": "1eb3f133-d4fb-4856-935b-cbd696d0d48c",
   "metadata": {},
   "outputs": [],
   "source": [
    "class Estudiante:\n",
    "\n",
    "    def __init__(self, nombre, nota):\n",
    "        self.nombre = nombre\n",
    "        self.nota = nota\n",
    "    \n",
    "    def imprimir(self):\n",
    "        print(f'Nombre: {self.nombre}')\n",
    "        print(f'Nota: {self.nota}')\n",
    "    \n",
    "    def resultado(self):\n",
    "        print('aprobado' if self.nota >= 4 else 'desaprobado')"
   ]
  },
  {
   "cell_type": "code",
   "execution_count": 4,
   "id": "e5204c15-b2cc-4c1f-9c23-f11672c23c69",
   "metadata": {},
   "outputs": [
    {
     "name": "stdout",
     "output_type": "stream",
     "text": [
      "Nombre: Pablo\n",
      "Nota: 8\n",
      "aprobado\n",
      "Nombre: Ana\n",
      "Nota: 2\n",
      "desaprobado\n"
     ]
    }
   ],
   "source": [
    "estudiante_1 = Estudiante('Pablo', 8)\n",
    "estudiante_2 = Estudiante('Ana', 2)\n",
    "\n",
    "estudiante_1.imprimir()\n",
    "estudiante_1.resultado()\n",
    "\n",
    "estudiante_2.imprimir()\n",
    "estudiante_2.resultado()"
   ]
  },
  {
   "cell_type": "markdown",
   "id": "9fa87b75-be68-4e96-91f5-64c42e31a8ac",
   "metadata": {},
   "source": [
    "## Persona"
   ]
  },
  {
   "cell_type": "markdown",
   "id": "42f484bf-7abc-4194-8348-e8373ac2a64a",
   "metadata": {},
   "source": [
    "Crea una clase Persona. Con atributos nombre y edad. Además, crear un método cumpleaños, que aumente en 1 la edad de la persona cuando se invoque sobre un objeto creado con Persona"
   ]
  },
  {
   "cell_type": "code",
   "execution_count": 5,
   "id": "1202a53a-7e63-409c-9898-841550a04f4f",
   "metadata": {},
   "outputs": [],
   "source": [
    "class Persona:\n",
    "\n",
    "    def __init__(self, nombre, edad):\n",
    "        self.nombre = nombre\n",
    "        self.edad = edad\n",
    "    \n",
    "    def cumpleaños(self):\n",
    "        self.edad += 1\n",
    "    \n",
    "    def __str__(self):\n",
    "        return f'{self.nombre} -> {self.edad}'"
   ]
  },
  {
   "cell_type": "code",
   "execution_count": 6,
   "id": "35337f0a-e0b9-49ae-b33b-4286b607b47e",
   "metadata": {},
   "outputs": [
    {
     "name": "stdout",
     "output_type": "stream",
     "text": [
      "Pablo -> 49\n",
      "Pablo -> 50\n"
     ]
    }
   ],
   "source": [
    "persona_1 = Persona('Pablo', 49)\n",
    "print(persona_1)\n",
    "persona_1.cumpleaños()\n",
    "print(persona_1)"
   ]
  },
  {
   "cell_type": "markdown",
   "id": "2d71c053-ca85-40af-a889-f51dc6e65ae5",
   "metadata": {},
   "source": [
    "## Calculadora"
   ]
  },
  {
   "cell_type": "markdown",
   "id": "6f99b34b-cacb-41f8-84cc-ebddab20228e",
   "metadata": {},
   "source": [
    "Realizar un programa en el cual se declaren dos valores enteros por teclado utilizando el método __init__. Calcular después la suma, resta, multiplicación y división. Utilizar un método para cada una e imprimir los \n",
    "resultados obtenidos. Llamar a la clase Calculadora"
   ]
  },
  {
   "cell_type": "code",
   "execution_count": 7,
   "id": "528f78c2-5542-4da2-979a-586298f3fa5c",
   "metadata": {},
   "outputs": [],
   "source": [
    "class Calculadora:\n",
    "\n",
    "    def __init__(self):\n",
    "        self.n1 = int(input('Número 1: '))\n",
    "        self.n2 = int(input('Número 2: '))\n",
    "    \n",
    "    def sumar(self):\n",
    "        return self.n1 + self.n2\n",
    "    \n",
    "    def restar(self):\n",
    "        return self.n1 - self.n2\n",
    "    \n",
    "    def multiplicar(self):\n",
    "        return self.n1 * self.n2\n",
    "    \n",
    "    def dividir(self):\n",
    "        if self.n2 != 0:\n",
    "            return self.n1 / self.n2\n",
    "        return 0"
   ]
  },
  {
   "cell_type": "code",
   "execution_count": 8,
   "id": "03243bf8-5a73-4521-aadb-fd7c255e6ea8",
   "metadata": {},
   "outputs": [
    {
     "name": "stdin",
     "output_type": "stream",
     "text": [
      "Número 1:  2\n",
      "Número 2:  3\n"
     ]
    },
    {
     "name": "stdout",
     "output_type": "stream",
     "text": [
      "5\n",
      "-1\n",
      "6\n",
      "0.6666666666666666\n"
     ]
    }
   ],
   "source": [
    "calc = Calculadora()\n",
    "print(calc.sumar())\n",
    "print(calc.restar()) \n",
    "print(calc.multiplicar())\n",
    "print(calc.dividir())"
   ]
  },
  {
   "cell_type": "markdown",
   "id": "030459db-8290-4424-8603-c61cd30e851f",
   "metadata": {},
   "source": [
    "## Nota"
   ]
  },
  {
   "cell_type": "markdown",
   "id": "349b9cde-d91c-4da4-aeb8-dd18e3280769",
   "metadata": {},
   "source": [
    "Crear la clase Nota:\n",
    "* constructor que reciba como parámetro valorInicial comprendido entre 0 y 10\n",
    "* obtenerValor(): devuelve el valor numérico de la Nota, comprendido entre 0 y 10\n",
    "* aprobado(): devuelve valor booleano que indica si la Nota permite o no la aprobación\n",
    "* desaprobado(): devuelve valor booleano que indica si la Nota implica desaprobación\n",
    "* recuperar(nuevoValor): recibe como parámetro nuevoValor comprendido entre 0 y 10 y modifica el valor numérico de la Nota, cambiándolo por nuevoValor, siempre y cuando nuevoValor sea superior al valor numérico actual"
   ]
  },
  {
   "cell_type": "code",
   "execution_count": null,
   "id": "922a14e1-75b2-4abf-89f6-849f8a000728",
   "metadata": {},
   "outputs": [],
   "source": []
  },
  {
   "cell_type": "markdown",
   "id": "a3c5a04a-79a6-4292-aeb1-1df0e0252a91",
   "metadata": {},
   "source": [
    "## Punto"
   ]
  },
  {
   "cell_type": "markdown",
   "id": "00df3833-97c9-4181-90bc-13ab33da211d",
   "metadata": {},
   "source": [
    "Crear la clase Punto que tendrá dos atributos numéricos, x e y, que representarán las coordenadas del punto dentro del plano. Implemente los siguientes métodos:\n",
    "* estaSobreElEjeX(): devuelve valor booleano\n",
    "* estaSobreElEjeY(): devuelve valor boolean\n",
    "* esElOrigenDeCoordenadas(): devuelve valor booleano\n",
    "* distanciaAlOrigen(): devuelve valor numérico\n",
    "* distancia(Punto p1, Punto p2): devuelve valor numérico\n",
    "* distancia(Punto p): devuelve valor numérico"
   ]
  },
  {
   "cell_type": "code",
   "execution_count": null,
   "id": "432adb74-4a0e-4625-8246-64d0596c3184",
   "metadata": {},
   "outputs": [],
   "source": []
  },
  {
   "cell_type": "markdown",
   "id": "e861132f-a9d7-42a6-81b0-d73ef704ced5",
   "metadata": {},
   "source": [
    "## Círculo"
   ]
  },
  {
   "cell_type": "markdown",
   "id": "8cd50cfb-8189-4cb8-8dd8-ad1531a60744",
   "metadata": {},
   "source": [
    "Implementar una clase que modele un círculo, del que se desea manipular (obtener y cambiar):\n",
    "* radio\n",
    "* diámetro\n",
    "* perímetro\n",
    "* área"
   ]
  },
  {
   "cell_type": "code",
   "execution_count": null,
   "id": "23bc1bf0-4e78-45af-bed3-177bd9b31327",
   "metadata": {},
   "outputs": [],
   "source": []
  },
  {
   "cell_type": "markdown",
   "id": "fdec8150-6313-4357-8ec1-4fda9c3acb55",
   "metadata": {},
   "source": [
    "## Corona circular"
   ]
  },
  {
   "cell_type": "markdown",
   "id": "6c3fbe2c-f2d8-4142-98ca-f8d5d4bb8595",
   "metadata": {},
   "source": [
    "Implementar una clase que modele una corona circular utilizando la clase Circulo desarrollada previamente. Se desea manipular (obtener y cambiar):\n",
    "* radio interior\n",
    "* radio exterior\n",
    "* perímetro interior\n",
    "* perímetro exterior\n",
    "* área"
   ]
  },
  {
   "cell_type": "code",
   "execution_count": null,
   "id": "64155384-b3c9-4b8c-a0b5-875107024ecb",
   "metadata": {},
   "outputs": [],
   "source": []
  },
  {
   "cell_type": "markdown",
   "id": "c660b16c-7d3a-4de0-ba2b-7f9c90c22152",
   "metadata": {},
   "source": [
    "## Cubo"
   ]
  },
  {
   "cell_type": "markdown",
   "id": "a65e8b7b-52af-4787-b99e-2314d6d7641c",
   "metadata": {},
   "source": [
    "Implementar la clase Cubo a partir de la siguiente interfaz:\n",
    "* constructor: inicializa el cubo a partir de la longitud de lado dada\n",
    "* obtenerLado\n",
    "* cambiarLado(double longitudLado): cambia la longitud de todos los lados del cubo\n",
    "* obtenerAreaCara: devuelve el área de la superficie de las caras del cubo\n",
    "* cambiarAreaCara(double areaCara): cambia el área de las caras del cubo\n",
    "* obtenerVolumen: devuelve el volumen que encierra el cubo\n",
    "* cambiarVolumen(double volumen): cambia el volumen del cubo"
   ]
  },
  {
   "cell_type": "code",
   "execution_count": null,
   "id": "6c6c142d-d1a7-4acf-a6e3-e16f9a5bba40",
   "metadata": {},
   "outputs": [],
   "source": []
  },
  {
   "cell_type": "markdown",
   "id": "554e9987-bd03-45e4-9f02-636d39664ff4",
   "metadata": {},
   "source": [
    "## TarjetaBaja"
   ]
  },
  {
   "cell_type": "markdown",
   "id": "b969ffaf-38d1-4981-bc10-7b0fb2d573b4",
   "metadata": {},
   "source": [
    "```\n",
    "class TarjetaBaja {\n",
    "\n",
    "    /**\n",
    "     * post: saldo de la Tarjeta en saldoInicial.\n",
    "     */\n",
    "    public TarjetaBaja(double saldoInicial) { }\n",
    "\n",
    "    /**\n",
    "     * post: devuelve el saldo actual de la Tarjeta\n",
    "     */\n",
    "    public double obtenerSaldo() { } \n",
    "\n",
    "    /**\n",
    "     * post: agrega el monto al saldo de la Tarjeta.\n",
    "     */\n",
    "    public void cargar(double monto) { }\n",
    "\n",
    "    /**\n",
    "     * pre : saldo suficiente.\n",
    "     * post: utiliza 21.50 del saldo para un viaje en colectivo.\n",
    "     */\n",
    "    public void pagarViajeEnColectivo() { }\n",
    "\n",
    "    /**\n",
    "     * pre : saldo suficiente.\n",
    "     * post: utiliza 19.50 del saldo para un viaje en subte. \n",
    "     */\n",
    "    public void pagarViajeEnSubte() { }\n",
    "\n",
    "    /**\n",
    "     * post: devuelve la cantidad de viajes realizados.\n",
    "     */\n",
    "    public int contarViajes() { }\n",
    "\n",
    "    /**\n",
    "     * post: devuelve la cantidad de viajes en colectivo.\n",
    "     */\n",
    "    public int contarViajesEnColectivo() { }\n",
    "\n",
    "    /**\n",
    "     * post: devuelve la cantidad de viajes en subte.\n",
    "     */\n",
    "    public int contarViajesEnSubte() { }\n",
    "}\n",
    "```"
   ]
  },
  {
   "cell_type": "code",
   "execution_count": null,
   "id": "00db8921-34af-4ed2-bca7-9256f5bf4ca2",
   "metadata": {},
   "outputs": [],
   "source": []
  },
  {
   "cell_type": "markdown",
   "id": "02ec6d70-75c4-4000-ad27-6d1af3fe164d",
   "metadata": {},
   "source": [
    "## Ticket"
   ]
  },
  {
   "cell_type": "markdown",
   "id": "e0cfbad4-d975-4179-9aa3-4780d828f576",
   "metadata": {},
   "source": [
    "```\n",
    "class Ticket {\n",
    "\n",
    "    /**\n",
    "     * post: el Ticket se inicializa con importe 0.\n",
    "     */\n",
    "    public Ticket() { }\n",
    "\n",
    "    /**\n",
    "     * pre : cantidad y precio son mayores a cero. El ticket está abierto.\n",
    "     * post: suma al Ticket un item a partir de la cantidad de productos y su precio unitario.\n",
    "     */\n",
    "    public void agregarItem(int cantidad, double precioUnitario) { }\n",
    "\n",
    "    /**\n",
    "     * pre : está abierto y no se ha aplicado un descuento previamente.\n",
    "     * post: aplica un descuento sobre el total del importe.\n",
    "     */\n",
    "    public void aplicarDescuento(double porcentaje) { }\n",
    "\n",
    "    /**\n",
    "     * post: devuelve el importe acumulado hasta el momento, sin cerrar el Ticket.\n",
    "     */\n",
    "    public double calcularSubtotal() { }\n",
    "\n",
    "    /**\n",
    "     * post: cierra el Ticket y devuelve el importe total.\n",
    "     */\n",
    "    public double calcularTotal() { }\n",
    "\n",
    "    /**\n",
    "     * post: devuelve la cantidad total de productos.\n",
    "     */\n",
    "    public int contarProductos() { }\n",
    "\n",
    "}\n",
    "```"
   ]
  },
  {
   "cell_type": "code",
   "execution_count": null,
   "id": "a6084812-8b0e-42b5-aed5-cc28f7561d52",
   "metadata": {},
   "outputs": [],
   "source": []
  },
  {
   "cell_type": "markdown",
   "id": "9e4025b0-8203-4d12-ae68-90797d6a6b10",
   "metadata": {},
   "source": [
    "## CajaDeAhorro"
   ]
  },
  {
   "cell_type": "markdown",
   "id": "a7754c22-58ee-4052-820e-22ef952c5d84",
   "metadata": {},
   "source": [
    "```\n",
    "class CajaDeAhorro {\n",
    "\n",
    "    /**\n",
    "     * post: la instancia queda asignada al titular indicado y con saldo igual a 0.\n",
    "     */\n",
    "    public CajaDeAhorro(String titularDeLaCuenta) { }\n",
    "    \n",
    "    /**\n",
    "     * post: devuelve el nombre del titular de la Caja de Ahorro.\n",
    "     */\n",
    "    public String obtenerTitular() { }\n",
    "\n",
    "    /**\n",
    "     * post: devuelve el saldo de la Caja de Ahorro.\n",
    "     */\n",
    "    public double consultarSaldo() { }\n",
    "\n",
    "    /**\n",
    "     * pre : monto es un valor mayor a 0.\n",
    "     * post: aumenta el saldo de la Caja de Ahorro según el monto depositado.  \n",
    "     */\n",
    "    public void depositar(double monto) { }\n",
    " \n",
    "    /**\n",
    "     * pre : monto es mayor a 0 y menor o igual que el saldo de la Caja de Ahorro.\n",
    "     * post: disminuye el saldo de la Caja de Ahorro según el monto extraído.\n",
    "     */\n",
    "    public void extraer(double monto) { }\n",
    "}\n",
    "```"
   ]
  },
  {
   "cell_type": "code",
   "execution_count": null,
   "id": "ab587cd6-31d1-4163-9d20-204b1fad9208",
   "metadata": {},
   "outputs": [],
   "source": []
  },
  {
   "cell_type": "markdown",
   "id": "07bfc21b-5484-4838-b8ac-4b2940328ca9",
   "metadata": {},
   "source": [
    "## Cerradura"
   ]
  },
  {
   "cell_type": "markdown",
   "id": "966314c5-5a01-4009-be4a-d43a86c88d8d",
   "metadata": {},
   "source": [
    "```\n",
    "// Cuando una Cerradura se bloquea no puede volver a abrirse nunca más\n",
    "class Cerradura {\n",
    "\n",
    "   public Cerradura(int claveDeApertura,int cantidadDeFallosConsecutivosQueLaBloquean)\n",
    "\n",
    "    public boolean abrir(int clave)\n",
    "\n",
    "    public void cerrar()\n",
    "\n",
    "    public boolean estaAbierta()\n",
    "\n",
    "    public boolean estaCerrada()\n",
    "\n",
    "    public boolean fueBloqueada()\n",
    "\n",
    "    public int contarAperturasExitosas()\n",
    "\n",
    "    public int contarAperturasFallidas()\n",
    "\n",
    "}\n",
    "```"
   ]
  },
  {
   "cell_type": "code",
   "execution_count": null,
   "id": "cc1c6af1-1720-4000-adcb-f8ff24b461d4",
   "metadata": {},
   "outputs": [],
   "source": []
  },
  {
   "cell_type": "markdown",
   "id": "ef19df6b-2121-41bd-b665-da7dccfd5484",
   "metadata": {},
   "source": [
    "## ExpendedorDePasajes"
   ]
  },
  {
   "cell_type": "markdown",
   "id": "8237e1a2-e70d-43f2-acbb-3c5eb63da23c",
   "metadata": {},
   "source": [
    "```\n",
    "class ExpendedorDePasajes {\n",
    "\n",
    "    public ExpendedorDePasajes(double precioPorKm)\n",
    "\n",
    "    public double venderPasaje(double distanciaEnKm)\n",
    "\n",
    "    public double venderPasajes(int cantidad, double distanciaEnKm)\n",
    "\n",
    "    public int contarPasajesVendidos()\n",
    "\n",
    "    public double obtenerDistanciaMaxima()\n",
    "\n",
    "    public double calcularDistanciaPromedio()\n",
    "\n",
    "    public double calcularVentaTotal()\n",
    "}\n",
    "```"
   ]
  },
  {
   "cell_type": "code",
   "execution_count": null,
   "id": "77bd487c-a529-4dba-8aef-f57c4772b42b",
   "metadata": {},
   "outputs": [],
   "source": []
  },
  {
   "cell_type": "markdown",
   "id": "c3ba1de0-384d-414c-8172-0438207a19c9",
   "metadata": {},
   "source": [
    "## Monedero"
   ]
  },
  {
   "cell_type": "markdown",
   "id": "caf1a130-9134-425d-b991-9c06a7a38c0e",
   "metadata": {},
   "source": [
    "Defina una clase 'Monedero' que permita gestionar la cantidad de dinero de que una persona dispone en un momento dado. La clase deberá tener un constructor que permitirá crear un monedero con una cantidad de dinero inicial y deberá definir un método para meter dinero en el monedero, otro para sacarlo y finalmente, otro para consultar el disponible; solo podrá conocerse la cantidad de dinero del monedero a través de este último método. Por supuesto, no se podrá sacar más dinero del que haya en un momento dado en el monedero. Para probar el funcionamiento de la clase, escriba un método 'main' con una serie de instrucciones que hagan uso de los métodos definidos."
   ]
  },
  {
   "cell_type": "code",
   "execution_count": null,
   "id": "49965bc7-da4c-4222-ae7f-7cf0e2f8f6e0",
   "metadata": {},
   "outputs": [],
   "source": []
  },
  {
   "cell_type": "markdown",
   "id": "3f393415-e0a6-443a-bbbd-ebcf7f479d72",
   "metadata": {},
   "source": [
    "## Jugador"
   ]
  },
  {
   "cell_type": "markdown",
   "id": "b81a9a2b-2ef4-4c3c-a7c4-0692e8e9ab78",
   "metadata": {},
   "source": [
    "Se tiene un jugador de futbol definido por cantidad de goles y la cantidad de infracciones que hizo y cantidad de partidos en que jugó; además, se cuenta con un equipo de fútbol con 11 jugadores. De un campeonato con 10 equipos de fútbol se desea determinar cual es el equipo que hizo \"juego sucio\" y para cada equipo determinar \"una figura\", para esto se deberá codificar los métodos:\n",
    "* esBuenjugador(): retorna true si hizo al menos 10 goles y cometió menos de 5 infracciones, retorna false en otro caso\n",
    "* unaFigura(): devuelve el número de jugador más goleador entre todos los \"buenos jugadores\" del equipo\n",
    "* juegoSucio(): retorna true si todos los jugadores de un mismo equipo que hicieron algún gol y jugaron más de 2 partidos, cometieron alguna infracción, retorna false en otro caso\n",
    "* Los datos para los 10 equipos del campeonato se generaran al azar y en un archivo de salida se guardaran los datos del campeonato\n",
    "* Se deberán codificar las clases y métodos necesarios"
   ]
  },
  {
   "cell_type": "code",
   "execution_count": null,
   "id": "7186080d-cd50-498e-a2b6-1d541c11dd02",
   "metadata": {},
   "outputs": [],
   "source": []
  },
  {
   "cell_type": "markdown",
   "id": "a1cb0445-1555-40e1-bd22-c0d117bd8dbe",
   "metadata": {},
   "source": [
    "## ObraEdificio"
   ]
  },
  {
   "cell_type": "markdown",
   "id": "d5524de4-800f-4a50-85b5-818178d384dd",
   "metadata": {},
   "source": [
    "Escribir el código de una clase denominada ObraEdificio, con las siguientes características. Cada objeto de esta clase deberá tener información acerca de la superficie total a cimentar de una obra, y de la superficie que ya ha sido cimentada (en $m^2$, sin decimales). Existirán los siguientes métodos:\n",
    "* Constructor: en la creación se fijará el área total a cimentar para este edificio\n",
    "* cimentando: recibirá un número indicando los metros de superficie que se están cimentando en ese momento. Si la suma de la superficie previamente cimentada más la que se supone que se está cimentando ahora, es mayor que la superficie total a cimentar, se escribirá un mensaje de error, y no se modificara nada. En caso contrario, se acumulara la cantidad de metros que se están cimentando con los que ya se habían cimentado antes\n",
    "* restaPorCimentar: devolverá los metros que faltan por cimentar para alcanzar la superficie total\n",
    "* terminado: devolverá verdadero si la superficie cimentada ya es igual a la superficie total a cimentar"
   ]
  },
  {
   "cell_type": "code",
   "execution_count": null,
   "id": "5b79149d-9dd5-4f17-8306-922166c21af3",
   "metadata": {},
   "outputs": [],
   "source": []
  },
  {
   "cell_type": "markdown",
   "id": "b3386ea2-828b-4c97-b07d-8873fe27a046",
   "metadata": {},
   "source": [
    "## Fracción"
   ]
  },
  {
   "cell_type": "markdown",
   "id": "16edd5d6-2116-4ef5-8e97-9a7b12da4152",
   "metadata": {},
   "source": [
    "Definir una clase que represente a un número fraccionario. Una fracción está definida por un numerador y un denominador, ambos son números enteros. La clase deberá contener:\n",
    "* un constructor por defecto que inicialice la fracción en la fracción nula: 0/1\n",
    "* un constructor con dos parámetros: dos números enteros para inicializar el numerador y el denominador de la fracción. Se deberá tener en cuenta que el denominador debe ser no nulo\n",
    "* Los métodos set y get respectivos\n",
    "* El método toString() / \\__str__()\n",
    "* El método ftor (): convierte una fracción a número real\n",
    "* El método reducir(): simplifica la fracción hasta que queda irreducible"
   ]
  },
  {
   "cell_type": "code",
   "execution_count": null,
   "id": "85753155-2ea2-4135-b557-8b2ca0332f22",
   "metadata": {},
   "outputs": [],
   "source": []
  },
  {
   "cell_type": "markdown",
   "id": "312df6d8-9638-4957-a663-5fb7fae5e9e8",
   "metadata": {},
   "source": [
    "## Producto"
   ]
  },
  {
   "cell_type": "markdown",
   "id": "082928ba-38e5-4ff5-9491-29a7fa66c79d",
   "metadata": {},
   "source": [
    "Definir una clase que represente a un producto. El producto tendrá los siguientes atributos: código (int), descripcion (String), precio unitario (float), stock (int). La clase deberá contener:\n",
    "* un constructor por defecto\n",
    "* un constructor con parámetros\n",
    "* los métodos set y get respectivos\n",
    "* el método toString() / \\__str__()"
   ]
  },
  {
   "cell_type": "code",
   "execution_count": null,
   "id": "8eaf5546-f25c-4655-91f7-459490d1064e",
   "metadata": {},
   "outputs": [],
   "source": []
  },
  {
   "cell_type": "markdown",
   "id": "c4633675-d306-4e49-b19d-d6dfef4737fd",
   "metadata": {},
   "source": [
    "## Tiempo"
   ]
  },
  {
   "cell_type": "markdown",
   "id": "d4d66347-1522-415b-8c5e-51a1fbd77864",
   "metadata": {},
   "source": [
    "Definir una clase Tiempo que representa una hora en formato hora, minuto y segundo. La clase deberá contener:\n",
    "* un constructor por defecto\n",
    "* un constructor con parámetros\n",
    "* los métodos set y get respectivos\n",
    "* el método toString() / \\__str__()\n",
    "* has(): que transforma hhmmss a segundos\n",
    "* sah(): que transforma segundos a hhmmss"
   ]
  },
  {
   "cell_type": "code",
   "execution_count": null,
   "id": "f914219e-9c3a-4e43-b1cf-a96c76ffc504",
   "metadata": {},
   "outputs": [],
   "source": []
  },
  {
   "cell_type": "markdown",
   "id": "7eb578e2-e5a3-46e9-87e9-08c156c8b32c",
   "metadata": {},
   "source": [
    "## Fecha"
   ]
  },
  {
   "cell_type": "markdown",
   "id": "a19963fa-2ed0-4203-ba30-41a43e20de06",
   "metadata": {},
   "source": [
    "Definir una clase que represente a una fecha. Sus atributos serán: día (entero), mes (entero), ano(entero), mesStr (String). La clase deberá contener:\n",
    "* un constructor por defecto\n",
    "* un constructor con parámetros\n",
    "* los métodos set y get respectivos\n",
    "* el método toString() / \\__str__()\n",
    "* aJuliana(): transforma la fecha gregoriana a fecha juliana representada por dos números enteros: el número ordinal que le corresponde a la fecha en el ano y el ano, ejemplo:\n",
    "    * 1 de febrero de 2001 se corresponde con 32 de 2001\n",
    "    * 1 de enero de 2001 se corresponde con 1 de 2001"
   ]
  },
  {
   "cell_type": "markdown",
   "id": "48e525d8-7745-4d1e-a2a1-c9fad6bc91fe",
   "metadata": {},
   "source": []
  },
  {
   "cell_type": "markdown",
   "id": "5fef6459-08df-43d8-935f-11d66acdd244",
   "metadata": {},
   "source": [
    "## Complejo"
   ]
  },
  {
   "cell_type": "markdown",
   "id": "d2b9f629-1c2f-429f-8536-5d5331562a1c",
   "metadata": {},
   "source": [
    "Definir una clase que represente a un número complejo. Sus atributos serán dos números reales que representarán la parte real y la parte imaginaria del número complejo. La clase deberá contener:\n",
    "* un constructor por defecto\n",
    "* un constructor con parámetros\n",
    "* los métodos set y get respectivos\n",
    "* el método toString() / \\__str__()\n",
    "* suma(), resta(), producto(), division() y conjugado()"
   ]
  },
  {
   "cell_type": "code",
   "execution_count": null,
   "id": "0021ffe5-edc3-4205-88b8-027147b808fb",
   "metadata": {},
   "outputs": [],
   "source": []
  },
  {
   "cell_type": "markdown",
   "id": "c5221ac4-fa08-43e0-842e-654755886e47",
   "metadata": {},
   "source": [
    "## Segmento"
   ]
  },
  {
   "cell_type": "markdown",
   "id": "f46666ff-3fd2-4de0-bdeb-374f3481b117",
   "metadata": {},
   "source": [
    "Desarrollar una clase Segmento para representar segmentos. Los datos miembro de esta clase son dos objetos de la clase Punto extremos de un segmento. Estos datos han de ser privados. Para esta clase se piden los siguientes constructores y métodos:\n",
    "* El constructor Segmento que recibe como argumentos dos objetos de la clase Punto, P1 y P2, y construye un nuevo objeto de la clase Segmento cuyos extremos son P1 y P2\n",
    "* Los métodos de acceso extremoA y extremoB, sin argumentos, que devuelven los extremos de un objeto Segmento\n",
    "* Los métodos modificadores extremoA y extremoB, que reciben como argumento un objeto de la clase Punto y modifican el correspondiente extremo de un objeto Segmento\n",
    "* El método igual, que comprueba si un objeto de la clase Segmento es igual a otro dado que se pasa como argumento\n",
    "* El método longitud, sin argumentos, que calcula la longitud de un objeto de la clase Segmento\n",
    "* El método proporcional, que comprueba si un objeto de la clase Segmento es proporcional a otro dado que se pasa como argumento\n",
    "* El método perpendicular, que comprueba si un objeto de la clase Segmento es perpendicular a otro dado que se pasa como argumento\n",
    "* El método puntoMedio, sin argumentos, que devuelve el objeto Punto que representa el punto medio de un objeto Segmento\n",
    "* El método pertenece, que recibe como argumento un objeto Punto P, y comprueba si P se encuentra en el segmento representado por un objeto Segmento\n",
    "* El método recta, sin argumentos, que construye un objeto Recta que contiene a un objeto Segmento\n",
    "* El método mediatriz, sin argumentos, que devuelve un objeto Recta que representa la mediatriz de un objeto Segmento"
   ]
  },
  {
   "cell_type": "code",
   "execution_count": null,
   "id": "bb36b974-3fd1-4517-bcb2-e65a57593487",
   "metadata": {},
   "outputs": [],
   "source": []
  },
  {
   "cell_type": "markdown",
   "id": "8fa4d81a-809a-4a16-bfdd-5425226959a1",
   "metadata": {},
   "source": [
    "## SalaDeCine"
   ]
  },
  {
   "cell_type": "markdown",
   "id": "999cdf2b-5f5a-4297-8849-e61780b7649d",
   "metadata": {},
   "source": [
    "Implementar la clase SalaDeCine, tal que tenga operaciones para:\n",
    "* Crearla con la cantidad de butacas totales, y cantidad de filas\n",
    "* Consultar si una butaca está ocupada (referida por fila y asiento)\n",
    "* Ocupar una butaca determinada, siempre que ésta no esté previamente ocupada\n",
    "* Consultar la cantidad total de butacas ocupadas\n",
    "* Consultar si es posible acomodar a un grupo de X personas, en forma contigua, en la misma fila"
   ]
  },
  {
   "cell_type": "code",
   "execution_count": null,
   "id": "e3d31a2b-bdc0-4ad7-b4f5-849a55d6e89e",
   "metadata": {},
   "outputs": [],
   "source": []
  },
  {
   "cell_type": "markdown",
   "id": "5681ca9d-4407-4e24-9391-5ff262489ce5",
   "metadata": {},
   "source": [
    "## Biblioteca"
   ]
  },
  {
   "cell_type": "markdown",
   "id": "b909a8ee-ce02-4883-9a56-399ca3f51c62",
   "metadata": {},
   "source": [
    "Para cada uno de los puntos confeccionar los casos de prueba JUnit que aseguren su correcto funcionamiento.\n",
    "\n",
    "```\n",
    "public class Bibioteca {\n",
    "    private Libro[] libros;\n",
    "    // Se construya a partir de la máxima cantidad de libros que puede contener.\n",
    "    public Biblioteca (int maxCantidadDeLibros) { /*TODO*/ }\n",
    "    // Se pueda consultar la cantidad de libros que contiene.\n",
    "    public int cuantosLibros() { /*TODO*/ }\n",
    "    //Se pueda agregar un libro indicando su título, autor, Genero y cantidad de páginas, siempre y cuando haya lugar en la Biblioteca. Los Generos literarios que le gustan a éste bibiotecario son: POESIA, CIENCIAFICCION, AVENTURA, NOVELA, HISTORIA, INFANTILES.\n",
    "    public boolean agregarLibro(String titulo, String autor, Genero genero, int paginas) { /*TODO*/ }\n",
    "    // Devuelva el título de un libro a partir de la posición.\n",
    "    public String libroEnLaPosicion(int posicion) { /*TODO*/ }\n",
    "    //Devuelva el libro con más cantidad de páginas.\n",
    "    public Libro libroConMasPaginas() { /*TODO*/ }\n",
    "    // Se pueda consultar cuantos libros hay de determinado autor.\n",
    "    public int cuantosLibrosDelAutor(String autor) { /*TODO*/ }\n",
    "    // Devuelva un arreglo con todos los Libros de un autor que se pasa por parámetro.\n",
    "    public Libro [] librosDelAutor(String autor) { /*TODO*/ }\n",
    "    // Calcule el tiempo (en minutos) que llevaría leer todos los libros, asumiendo que se tarda 1 minuto por página.\n",
    "    public int tiempoEnLeetTodosLosLibros() { /*TODO*/ }\n",
    "    // Informe por pantalla la cantidad de libros que hay por cada Genero literario.\n",
    "    public void librosPorGeneroLiterario() { /*TODO*/ }\n",
    "```  "
   ]
  },
  {
   "cell_type": "code",
   "execution_count": null,
   "id": "0aa96c4b-0644-4b54-9076-f96cdecba257",
   "metadata": {},
   "outputs": [],
   "source": []
  },
  {
   "cell_type": "markdown",
   "id": "d4559ef6-a479-4142-a002-ea7d53e2113b",
   "metadata": {},
   "source": [
    "## Pulsador"
   ]
  },
  {
   "cell_type": "markdown",
   "id": "6d6c9965-212d-4538-a608-2f42b02b485b",
   "metadata": {},
   "source": [
    "Supongamos una máquina que dispone de un conjunto de N pulsadores numerados de 0 a N-1, cada uno de los cuales puede estar activo o no, en un instante de tiempo. Necesitamos programar una clase que permita almacenar la información de cuáles de esos pulsadores están o no activos en un instante dado. La clase necesitará los siguientes métodos:\n",
    "* activarPulsador: que recibirá un número de pulsador y hará que figure como activo\n",
    "* desactivarPulsador: que recibirá un número de pulsador y hará que figure como NO activo\n",
    "* activado: que recibirá un número de pulsador y devolverá si este está activo o no\n",
    "* numActivos: que devolverá el número de pulsadores que están activados"
   ]
  },
  {
   "cell_type": "code",
   "execution_count": null,
   "id": "5dd901f3-1e3f-4c3e-97ff-1e08afe42afb",
   "metadata": {},
   "outputs": [],
   "source": []
  },
  {
   "cell_type": "markdown",
   "id": "05c00b8c-2b6d-46e7-982d-df7cfe69f709",
   "metadata": {},
   "source": [
    "## Pacman"
   ]
  },
  {
   "cell_type": "markdown",
   "id": "05f1db89-883f-409d-8247-701d5a07ab63",
   "metadata": {},
   "source": [
    "Se plantea una simplificación del laberinto del juego del pacman representado por una secuencia de caracteres como la siguiente:\n",
    "\n",
    "```\n",
    "UP        LEFT      RIGHT     DOWN\n",
    ".....     .....     .....     .....\n",
    ".....     .....     .....     .....\n",
    "..V..     ..>..     ..<..     ..^..\n",
    ".....     .....     .....     .....\n",
    ".....     .....     .....     .....\n",
    "```\n",
    "\n",
    "* Para resolverlo vamos a crear una clase Maze que represente al laberinto y en ella algunos métodos que nos permitan mover al pacman en distintas direcciones, métodos para saber si el pacman está en cierta posición o con cierta dirección, un método que permite simular el paso de un instante de tiempo y un método que nos muestre en la consola el estado del laberinto. Una posible solución está representada por el siguiente código:\n",
    "\n",
    "```\n",
    "public class Maze {\n",
    "    private int rows;\n",
    "    private int columns;\n",
    "    public boolean isPacManAt(int row, int column){}\n",
    "    public boolean isPacManLoockingDown(){}\n",
    "    public boolean isPacManLookingUp(){}\n",
    "    public boolean isPacmManLookingLeft(){}\n",
    "    public boolean isPacManLookingRight(){}\n",
    "    public boolean isEmptyAt(int row, int column){}\n",
    "    public void pacManDown(){}\n",
    "    public void pacManUp(){}\n",
    "    public void pacManLeft(){}\n",
    "    public void pacManRight(){}\n",
    "    public void tick(){}\n",
    "    public void print(){}\n",
    "    \n",
    "    public static void main(String[] args) {\n",
    "      Maze maze = new Maze();\n",
    "      maze.pacManRight();\n",
    "      maze.tick();\n",
    "      maze.print()\n",
    "      \n",
    "      // * * * * *\n",
    "      // * * * * *\n",
    "      // * *   < *\n",
    "      // * * * * *\n",
    "      // * * * * *\n",
    "    }\n",
    "}\n",
    "```\n",
    "\n",
    "Probar la clase Maze, para los siguientes casos de prueba:\n",
    "* testPacManLooksUpInCenterOfMaze\n",
    "* testPacManMovesUp\n",
    "* testPacManWrapsAroundWhenAtTop\n",
    "* testTickLeftTickCheck\n",
    "* testPacManMovesUpAndBackAgain\n",
    "* testPacManMovesLeftAndBackAgain\n",
    "* testPacManChangesDirectionLeft\n",
    "* testPacManMovesLeft\n",
    "* testPacManWrapsAroundLeft\n",
    "* testPacManChangesDirectionDown\n",
    "* testPacManChangesDirectionRight\n",
    "* testPacManChangesDirectionUp\n",
    "* assertThereIsExactlyOnePacMan"
   ]
  },
  {
   "cell_type": "code",
   "execution_count": null,
   "id": "ed1c3ba7-b4d1-4bb2-94a6-a107d42c2b3d",
   "metadata": {},
   "outputs": [],
   "source": []
  },
  {
   "cell_type": "markdown",
   "id": "717bc763-644c-4b8a-94bf-11974e3af7d5",
   "metadata": {},
   "source": [
    "## Universidad, Carrera, Estudiante"
   ]
  },
  {
   "cell_type": "markdown",
   "id": "fed3e0f1-b443-4766-9b27-6261c4df9485",
   "metadata": {},
   "source": [
    "Desarrollar un programa con tres clases:\n",
    "\n",
    "* La primera debe ser Universidad, con atributos nombre (nombre de la Universidad) \n",
    "* La segunda llamada Carerra, con los atributos especialidad (especialidad de un estudiante)\n",
    "* Y por último, una llamada Estudiante, que tenga como atributos su nombre y edad\n",
    "\n",
    "El programa debe imprimir la especialidad, edad, nombre y universidad de dicho estudiante con un objeto llamado persona"
   ]
  },
  {
   "cell_type": "code",
   "execution_count": 34,
   "id": "fb08eb4b-e353-4d4a-bb8c-737f2cfd7683",
   "metadata": {},
   "outputs": [],
   "source": [
    "class Universidad:\n",
    "\n",
    "    def __init__(self, nombre):\n",
    "        self.nombre = nombre"
   ]
  },
  {
   "cell_type": "code",
   "execution_count": 35,
   "id": "baeb83cd-885b-4c67-98e1-8397a6cd7ff8",
   "metadata": {},
   "outputs": [],
   "source": [
    "class Carrera:\n",
    "\n",
    "    def __init__(self, especialidad):\n",
    "        self.especialidad = especialidad"
   ]
  },
  {
   "cell_type": "code",
   "execution_count": 36,
   "id": "202c07e4-2f3b-45df-b8cf-ae6d68101d9b",
   "metadata": {},
   "outputs": [],
   "source": [
    "class Estudiante:\n",
    "\n",
    "    def __init__(self, nombre, edad):\n",
    "        self.nombre = nombre\n",
    "        self.edad = edad"
   ]
  },
  {
   "cell_type": "code",
   "execution_count": 37,
   "id": "9529a4d6-d267-4632-8b55-8f24ca97a6e2",
   "metadata": {},
   "outputs": [],
   "source": [
    "def persona(universidad, carrera, estudiante):\n",
    "    return f'Universidad: {universidad.nombre}, Carrera: {carrera.especialidad}, Estudiante: {estudiante.nombre}, Edad: {estudiante.edad}'"
   ]
  },
  {
   "cell_type": "code",
   "execution_count": 38,
   "id": "35663e68-731f-40cc-b0f5-e728e0e9f834",
   "metadata": {},
   "outputs": [
    {
     "name": "stdout",
     "output_type": "stream",
     "text": [
      "Universidad: UNO, Carrera: Esp en Cs de Datos, Estudiante: Pablo Pandolfo, Edad: 49\n"
     ]
    }
   ],
   "source": [
    "universidad = Universidad('UNO')\n",
    "carrera = Carrera('Esp en Cs de Datos')\n",
    "estudiante = Estudiante('Pablo Pandolfo', 49)\n",
    "print(persona(universidad, carrera, estudiante))"
   ]
  }
 ],
 "metadata": {
  "kernelspec": {
   "display_name": "Python [conda env:base] *",
   "language": "python",
   "name": "conda-base-py"
  },
  "language_info": {
   "codemirror_mode": {
    "name": "ipython",
    "version": 3
   },
   "file_extension": ".py",
   "mimetype": "text/x-python",
   "name": "python",
   "nbconvert_exporter": "python",
   "pygments_lexer": "ipython3",
   "version": "3.12.7"
  }
 },
 "nbformat": 4,
 "nbformat_minor": 5
}
